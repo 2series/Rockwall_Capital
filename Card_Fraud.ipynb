{
  "nbformat": 4,
  "nbformat_minor": 0,
  "metadata": {
    "colab": {
      "name": "Card_Fraud.ipynb",
      "provenance": [],
      "collapsed_sections": [],
      "authorship_tag": "ABX9TyM8et3IKF2OtOfokYigqssr"
    },
    "kernelspec": {
      "name": "python3",
      "display_name": "Python 3"
    }
  },
  "cells": [
    {
      "cell_type": "code",
      "metadata": {
        "id": "ZInrNtM3nNCt"
      },
      "source": [
        "# Code to read csv file into Colaboratory:\n",
        "!pip install -U -q PyDrive\n",
        "from pydrive.auth import GoogleAuth\n",
        "from pydrive.drive import GoogleDrive\n",
        "from google.colab import auth\n",
        "from oauth2client.client import GoogleCredentials\n",
        "# Authenticate and create the PyDrive client.\n",
        "auth.authenticate_user()\n",
        "gauth = GoogleAuth()\n",
        "gauth.credentials = GoogleCredentials.get_application_default()\n",
        "drive = GoogleDrive(gauth)"
      ],
      "execution_count": null,
      "outputs": []
    },
    {
      "cell_type": "code",
      "metadata": {
        "id": "H0fQT-hKnlYv"
      },
      "source": [
        "import numpy as np\n",
        "import pandas as pd\n",
        "import matplotlib.pyplot as plt\n",
        "import seaborn as sns\n",
        "sns.set_style('whitegrid')\n",
        "\n",
        "from scipy import stats\n",
        "\n",
        "import warnings\n",
        "warnings.filterwarnings('ignore')"
      ],
      "execution_count": null,
      "outputs": []
    },
    {
      "cell_type": "code",
      "metadata": {
        "colab": {
          "base_uri": "https://localhost:8080/",
          "height": 344
        },
        "id": "9S6b2cCNnlU_",
        "outputId": "4427bdde-8c73-4e55-db43-62e36cdcb79d"
      },
      "source": [
        "linkwhite='https://drive.google.com/open?id=1XBIV3UcGD9huBlsotNAH2pTlwoajNx0Q'\n",
        "fluff, id2 = linkwhite.split('=')\n",
        "print (id2)\n",
        "\n",
        "downloaded = drive.CreateFile({'id':id2}) \n",
        "downloaded.GetContentFile('credit_dataset.csv')  \n",
        "dataframe = pd.read_csv('credit_dataset.csv', index_col=0)\n",
        "dataframe.head()"
      ],
      "execution_count": null,
      "outputs": [
        {
          "output_type": "stream",
          "text": [
            "1XBIV3UcGD9huBlsotNAH2pTlwoajNx0Q\n"
          ],
          "name": "stdout"
        },
        {
          "output_type": "execute_result",
          "data": {
            "text/html": [
              "<div>\n",
              "<style scoped>\n",
              "    .dataframe tbody tr th:only-of-type {\n",
              "        vertical-align: middle;\n",
              "    }\n",
              "\n",
              "    .dataframe tbody tr th {\n",
              "        vertical-align: top;\n",
              "    }\n",
              "\n",
              "    .dataframe thead th {\n",
              "        text-align: right;\n",
              "    }\n",
              "</style>\n",
              "<table border=\"1\" class=\"dataframe\">\n",
              "  <thead>\n",
              "    <tr style=\"text-align: right;\">\n",
              "      <th></th>\n",
              "      <th>ID</th>\n",
              "      <th>GENDER</th>\n",
              "      <th>CAR</th>\n",
              "      <th>REALITY</th>\n",
              "      <th>NO_OF_CHILD</th>\n",
              "      <th>INCOME</th>\n",
              "      <th>INCOME_TYPE</th>\n",
              "      <th>EDUCATION_TYPE</th>\n",
              "      <th>FAMILY_TYPE</th>\n",
              "      <th>HOUSE_TYPE</th>\n",
              "      <th>FLAG_MOBIL</th>\n",
              "      <th>WORK_PHONE</th>\n",
              "      <th>PHONE</th>\n",
              "      <th>E_MAIL</th>\n",
              "      <th>FAMILY SIZE</th>\n",
              "      <th>BEGIN_MONTH</th>\n",
              "      <th>AGE</th>\n",
              "      <th>YEARS_EMPLOYED</th>\n",
              "      <th>TARGET</th>\n",
              "    </tr>\n",
              "  </thead>\n",
              "  <tbody>\n",
              "    <tr>\n",
              "      <th>0</th>\n",
              "      <td>5008806</td>\n",
              "      <td>M</td>\n",
              "      <td>Y</td>\n",
              "      <td>Y</td>\n",
              "      <td>0</td>\n",
              "      <td>112500.0</td>\n",
              "      <td>Working</td>\n",
              "      <td>Secondary / secondary special</td>\n",
              "      <td>Married</td>\n",
              "      <td>House / apartment</td>\n",
              "      <td>1</td>\n",
              "      <td>0</td>\n",
              "      <td>0</td>\n",
              "      <td>0</td>\n",
              "      <td>2.0</td>\n",
              "      <td>29</td>\n",
              "      <td>59</td>\n",
              "      <td>3</td>\n",
              "      <td>0</td>\n",
              "    </tr>\n",
              "    <tr>\n",
              "      <th>1</th>\n",
              "      <td>5008808</td>\n",
              "      <td>F</td>\n",
              "      <td>N</td>\n",
              "      <td>Y</td>\n",
              "      <td>0</td>\n",
              "      <td>270000.0</td>\n",
              "      <td>Commercial associate</td>\n",
              "      <td>Secondary / secondary special</td>\n",
              "      <td>Single / not married</td>\n",
              "      <td>House / apartment</td>\n",
              "      <td>1</td>\n",
              "      <td>0</td>\n",
              "      <td>1</td>\n",
              "      <td>1</td>\n",
              "      <td>1.0</td>\n",
              "      <td>4</td>\n",
              "      <td>52</td>\n",
              "      <td>8</td>\n",
              "      <td>0</td>\n",
              "    </tr>\n",
              "    <tr>\n",
              "      <th>2</th>\n",
              "      <td>5008809</td>\n",
              "      <td>F</td>\n",
              "      <td>N</td>\n",
              "      <td>Y</td>\n",
              "      <td>0</td>\n",
              "      <td>270000.0</td>\n",
              "      <td>Commercial associate</td>\n",
              "      <td>Secondary / secondary special</td>\n",
              "      <td>Single / not married</td>\n",
              "      <td>House / apartment</td>\n",
              "      <td>1</td>\n",
              "      <td>0</td>\n",
              "      <td>1</td>\n",
              "      <td>1</td>\n",
              "      <td>1.0</td>\n",
              "      <td>26</td>\n",
              "      <td>52</td>\n",
              "      <td>8</td>\n",
              "      <td>0</td>\n",
              "    </tr>\n",
              "    <tr>\n",
              "      <th>3</th>\n",
              "      <td>5008810</td>\n",
              "      <td>F</td>\n",
              "      <td>N</td>\n",
              "      <td>Y</td>\n",
              "      <td>0</td>\n",
              "      <td>270000.0</td>\n",
              "      <td>Commercial associate</td>\n",
              "      <td>Secondary / secondary special</td>\n",
              "      <td>Single / not married</td>\n",
              "      <td>House / apartment</td>\n",
              "      <td>1</td>\n",
              "      <td>0</td>\n",
              "      <td>1</td>\n",
              "      <td>1</td>\n",
              "      <td>1.0</td>\n",
              "      <td>26</td>\n",
              "      <td>52</td>\n",
              "      <td>8</td>\n",
              "      <td>0</td>\n",
              "    </tr>\n",
              "    <tr>\n",
              "      <th>4</th>\n",
              "      <td>5008811</td>\n",
              "      <td>F</td>\n",
              "      <td>N</td>\n",
              "      <td>Y</td>\n",
              "      <td>0</td>\n",
              "      <td>270000.0</td>\n",
              "      <td>Commercial associate</td>\n",
              "      <td>Secondary / secondary special</td>\n",
              "      <td>Single / not married</td>\n",
              "      <td>House / apartment</td>\n",
              "      <td>1</td>\n",
              "      <td>0</td>\n",
              "      <td>1</td>\n",
              "      <td>1</td>\n",
              "      <td>1.0</td>\n",
              "      <td>38</td>\n",
              "      <td>52</td>\n",
              "      <td>8</td>\n",
              "      <td>0</td>\n",
              "    </tr>\n",
              "  </tbody>\n",
              "</table>\n",
              "</div>"
            ],
            "text/plain": [
              "        ID GENDER CAR REALITY  ...  BEGIN_MONTH  AGE YEARS_EMPLOYED TARGET\n",
              "0  5008806      M   Y       Y  ...           29   59              3      0\n",
              "1  5008808      F   N       Y  ...            4   52              8      0\n",
              "2  5008809      F   N       Y  ...           26   52              8      0\n",
              "3  5008810      F   N       Y  ...           26   52              8      0\n",
              "4  5008811      F   N       Y  ...           38   52              8      0\n",
              "\n",
              "[5 rows x 19 columns]"
            ]
          },
          "metadata": {
            "tags": []
          },
          "execution_count": 3
        }
      ]
    },
    {
      "cell_type": "code",
      "metadata": {
        "id": "E6xzVdQUdEmC"
      },
      "source": [
        "# Change behaviour globaly\n",
        "pd.set_option('display.float_format', lambda x: '%.3f' % x)"
      ],
      "execution_count": null,
      "outputs": []
    },
    {
      "cell_type": "code",
      "metadata": {
        "id": "saLFXojmolXZ"
      },
      "source": [
        "# Copy\n",
        "df = dataframe.copy()"
      ],
      "execution_count": null,
      "outputs": []
    },
    {
      "cell_type": "code",
      "metadata": {
        "colab": {
          "base_uri": "https://localhost:8080/"
        },
        "id": "4-cerLeJs2f2",
        "outputId": "47c352fd-01d0-40ca-c1af-454d33966b39"
      },
      "source": [
        "# Shape dataframe\n",
        "print('Rows    :', df.shape[0])\n",
        "print('Columns :', df.shape[1])"
      ],
      "execution_count": null,
      "outputs": [
        {
          "output_type": "stream",
          "text": [
            "Rows    : 25134\n",
            "Columns : 19\n"
          ],
          "name": "stdout"
        }
      ]
    },
    {
      "cell_type": "code",
      "metadata": {
        "colab": {
          "base_uri": "https://localhost:8080/"
        },
        "id": "Qr9nis_FtMnE",
        "outputId": "8c4e0587-ca3b-485a-9d6f-8ff69c0c1202"
      },
      "source": [
        "# Preview NULL values\n",
        "df.isna().sum()"
      ],
      "execution_count": null,
      "outputs": [
        {
          "output_type": "execute_result",
          "data": {
            "text/plain": [
              "ID                0\n",
              "GENDER            0\n",
              "CAR               0\n",
              "REALITY           0\n",
              "NO_OF_CHILD       0\n",
              "INCOME            0\n",
              "INCOME_TYPE       0\n",
              "EDUCATION_TYPE    0\n",
              "FAMILY_TYPE       0\n",
              "HOUSE_TYPE        0\n",
              "FLAG_MOBIL        0\n",
              "WORK_PHONE        0\n",
              "PHONE             0\n",
              "E_MAIL            0\n",
              "FAMILY SIZE       0\n",
              "BEGIN_MONTH       0\n",
              "AGE               0\n",
              "YEARS_EMPLOYED    0\n",
              "TARGET            0\n",
              "dtype: int64"
            ]
          },
          "metadata": {
            "tags": []
          },
          "execution_count": 7
        }
      ]
    },
    {
      "cell_type": "code",
      "metadata": {
        "colab": {
          "base_uri": "https://localhost:8080/"
        },
        "id": "pj8eT7QtvUyR",
        "outputId": "7ccb17b2-d6c9-4879-d9ad-0e14e7345118"
      },
      "source": [
        "# Dtytes\n",
        "df.dtypes"
      ],
      "execution_count": null,
      "outputs": [
        {
          "output_type": "execute_result",
          "data": {
            "text/plain": [
              "ID                  int64\n",
              "GENDER             object\n",
              "CAR                object\n",
              "REALITY            object\n",
              "NO_OF_CHILD         int64\n",
              "INCOME            float64\n",
              "INCOME_TYPE        object\n",
              "EDUCATION_TYPE     object\n",
              "FAMILY_TYPE        object\n",
              "HOUSE_TYPE         object\n",
              "FLAG_MOBIL          int64\n",
              "WORK_PHONE          int64\n",
              "PHONE               int64\n",
              "E_MAIL              int64\n",
              "FAMILY SIZE       float64\n",
              "BEGIN_MONTH         int64\n",
              "AGE                 int64\n",
              "YEARS_EMPLOYED      int64\n",
              "TARGET              int64\n",
              "dtype: object"
            ]
          },
          "metadata": {
            "tags": []
          },
          "execution_count": 8
        }
      ]
    },
    {
      "cell_type": "code",
      "metadata": {
        "colab": {
          "base_uri": "https://localhost:8080/"
        },
        "id": "BBf5fYZRvmFc",
        "outputId": "3a3ba8dd-0a8f-498f-ed57-9d53491ad8bb"
      },
      "source": [
        "# Preview unique values\n",
        "df.nunique()"
      ],
      "execution_count": null,
      "outputs": [
        {
          "output_type": "execute_result",
          "data": {
            "text/plain": [
              "ID                25134\n",
              "GENDER                2\n",
              "CAR                   2\n",
              "REALITY               2\n",
              "NO_OF_CHILD           9\n",
              "INCOME              195\n",
              "INCOME_TYPE           5\n",
              "EDUCATION_TYPE        5\n",
              "FAMILY_TYPE           5\n",
              "HOUSE_TYPE            6\n",
              "FLAG_MOBIL            1\n",
              "WORK_PHONE            2\n",
              "PHONE                 2\n",
              "E_MAIL                2\n",
              "FAMILY SIZE          10\n",
              "BEGIN_MONTH          61\n",
              "AGE                  47\n",
              "YEARS_EMPLOYED       43\n",
              "TARGET                2\n",
              "dtype: int64"
            ]
          },
          "metadata": {
            "tags": []
          },
          "execution_count": 9
        }
      ]
    },
    {
      "cell_type": "markdown",
      "metadata": {
        "id": "-aAsQc8p7Nov"
      },
      "source": [
        "TARGET variable class distribution"
      ]
    },
    {
      "cell_type": "code",
      "metadata": {
        "colab": {
          "base_uri": "https://localhost:8080/",
          "height": 396
        },
        "id": "byVurOLJv7fq",
        "outputId": "2a64033f-0a11-424a-cad9-6e78cec8f1f5"
      },
      "source": [
        "sns.countplot(df.TARGET).set_title('Class Distribution \\n (0: Genuine || 1: Fraud)', size=18, pad=30)\n",
        "print(df.TARGET.value_counts(normalize=True))\n",
        "plt.show()"
      ],
      "execution_count": null,
      "outputs": [
        {
          "output_type": "stream",
          "text": [
            "0   0.983\n",
            "1   0.017\n",
            "Name: TARGET, dtype: float64\n"
          ],
          "name": "stdout"
        },
        {
          "output_type": "display_data",
          "data": {
            "image/png": "[encoded data removed]",
            "text/plain": [
              "<Figure size 432x288 with 1 Axes>"
            ]
          },
          "metadata": {
            "tags": []
          }
        }
      ]
    },
    {
      "cell_type": "code",
      "metadata": {
        "colab": {
          "base_uri": "https://localhost:8080/",
          "height": 437
        },
        "id": "yNF2ltBY3DjQ",
        "outputId": "8f07f757-16f0-406c-ada4-95677606e784"
      },
      "source": [
        "ax = df['TARGET'].value_counts().plot(kind='bar', figsize=(8,6), fontsize=13)\n",
        "ax.set_title('Class Distribution \\n (0: Genuine || 1: Fraud)', size=18, pad=30)\n",
        "ax.set_ylabel('Number of transactions', fontsize=14)\n",
        "\n",
        "for i in ax.patches:\n",
        "    ax.text(i.get_x() + 0.19, i.get_height() + 700, str(round(i.get_height(), 2)), fontsize=15)"
      ],
      "execution_count": null,
      "outputs": [
        {
          "output_type": "display_data",
          "data": {
            "image/png": "[encoded data removed]",
            "text/plain": [
              "<Figure size 576x432 with 1 Axes>"
            ]
          },
          "metadata": {
            "tags": []
          }
        }
      ]
    },
    {
      "cell_type": "code",
      "metadata": {
        "colab": {
          "base_uri": "https://localhost:8080/",
          "height": 332
        },
        "id": "fdzC1H1exCXC",
        "outputId": "2c260f44-21d2-4c46-e5cd-2682a40b72af"
      },
      "source": [
        "df.describe()"
      ],
      "execution_count": null,
      "outputs": [
        {
          "output_type": "execute_result",
          "data": {
            "text/html": [
              "<div>\n",
              "<style scoped>\n",
              "    .dataframe tbody tr th:only-of-type {\n",
              "        vertical-align: middle;\n",
              "    }\n",
              "\n",
              "    .dataframe tbody tr th {\n",
              "        vertical-align: top;\n",
              "    }\n",
              "\n",
              "    .dataframe thead th {\n",
              "        text-align: right;\n",
              "    }\n",
              "</style>\n",
              "<table border=\"1\" class=\"dataframe\">\n",
              "  <thead>\n",
              "    <tr style=\"text-align: right;\">\n",
              "      <th></th>\n",
              "      <th>ID</th>\n",
              "      <th>NO_OF_CHILD</th>\n",
              "      <th>INCOME</th>\n",
              "      <th>FLAG_MOBIL</th>\n",
              "      <th>WORK_PHONE</th>\n",
              "      <th>PHONE</th>\n",
              "      <th>E_MAIL</th>\n",
              "      <th>FAMILY SIZE</th>\n",
              "      <th>BEGIN_MONTH</th>\n",
              "      <th>AGE</th>\n",
              "      <th>YEARS_EMPLOYED</th>\n",
              "      <th>TARGET</th>\n",
              "    </tr>\n",
              "  </thead>\n",
              "  <tbody>\n",
              "    <tr>\n",
              "      <th>count</th>\n",
              "      <td>25134.000</td>\n",
              "      <td>25134.000</td>\n",
              "      <td>25134.000</td>\n",
              "      <td>25134.000</td>\n",
              "      <td>25134.000</td>\n",
              "      <td>25134.000</td>\n",
              "      <td>25134.000</td>\n",
              "      <td>25134.000</td>\n",
              "      <td>25134.000</td>\n",
              "      <td>25134.000</td>\n",
              "      <td>25134.000</td>\n",
              "      <td>25134.000</td>\n",
              "    </tr>\n",
              "    <tr>\n",
              "      <th>mean</th>\n",
              "      <td>5078837.564</td>\n",
              "      <td>0.512</td>\n",
              "      <td>194833.851</td>\n",
              "      <td>1.000</td>\n",
              "      <td>0.274</td>\n",
              "      <td>0.293</td>\n",
              "      <td>0.101</td>\n",
              "      <td>2.294</td>\n",
              "      <td>26.121</td>\n",
              "      <td>40.536</td>\n",
              "      <td>7.204</td>\n",
              "      <td>0.017</td>\n",
              "    </tr>\n",
              "    <tr>\n",
              "      <th>std</th>\n",
              "      <td>41941.019</td>\n",
              "      <td>0.788</td>\n",
              "      <td>104510.987</td>\n",
              "      <td>0.000</td>\n",
              "      <td>0.446</td>\n",
              "      <td>0.455</td>\n",
              "      <td>0.301</td>\n",
              "      <td>0.948</td>\n",
              "      <td>16.440</td>\n",
              "      <td>9.559</td>\n",
              "      <td>6.414</td>\n",
              "      <td>0.128</td>\n",
              "    </tr>\n",
              "    <tr>\n",
              "      <th>min</th>\n",
              "      <td>5008806.000</td>\n",
              "      <td>0.000</td>\n",
              "      <td>27000.000</td>\n",
              "      <td>1.000</td>\n",
              "      <td>0.000</td>\n",
              "      <td>0.000</td>\n",
              "      <td>0.000</td>\n",
              "      <td>1.000</td>\n",
              "      <td>0.000</td>\n",
              "      <td>21.000</td>\n",
              "      <td>0.000</td>\n",
              "      <td>0.000</td>\n",
              "    </tr>\n",
              "    <tr>\n",
              "      <th>25%</th>\n",
              "      <td>5042228.250</td>\n",
              "      <td>0.000</td>\n",
              "      <td>135000.000</td>\n",
              "      <td>1.000</td>\n",
              "      <td>0.000</td>\n",
              "      <td>0.000</td>\n",
              "      <td>0.000</td>\n",
              "      <td>2.000</td>\n",
              "      <td>12.000</td>\n",
              "      <td>33.000</td>\n",
              "      <td>3.000</td>\n",
              "      <td>0.000</td>\n",
              "    </tr>\n",
              "    <tr>\n",
              "      <th>50%</th>\n",
              "      <td>5079004.000</td>\n",
              "      <td>0.000</td>\n",
              "      <td>180000.000</td>\n",
              "      <td>1.000</td>\n",
              "      <td>0.000</td>\n",
              "      <td>0.000</td>\n",
              "      <td>0.000</td>\n",
              "      <td>2.000</td>\n",
              "      <td>24.000</td>\n",
              "      <td>40.000</td>\n",
              "      <td>5.000</td>\n",
              "      <td>0.000</td>\n",
              "    </tr>\n",
              "    <tr>\n",
              "      <th>75%</th>\n",
              "      <td>5115603.750</td>\n",
              "      <td>1.000</td>\n",
              "      <td>225000.000</td>\n",
              "      <td>1.000</td>\n",
              "      <td>1.000</td>\n",
              "      <td>1.000</td>\n",
              "      <td>0.000</td>\n",
              "      <td>3.000</td>\n",
              "      <td>39.000</td>\n",
              "      <td>48.000</td>\n",
              "      <td>10.000</td>\n",
              "      <td>0.000</td>\n",
              "    </tr>\n",
              "    <tr>\n",
              "      <th>max</th>\n",
              "      <td>5150487.000</td>\n",
              "      <td>19.000</td>\n",
              "      <td>1575000.000</td>\n",
              "      <td>1.000</td>\n",
              "      <td>1.000</td>\n",
              "      <td>1.000</td>\n",
              "      <td>1.000</td>\n",
              "      <td>20.000</td>\n",
              "      <td>60.000</td>\n",
              "      <td>67.000</td>\n",
              "      <td>43.000</td>\n",
              "      <td>1.000</td>\n",
              "    </tr>\n",
              "  </tbody>\n",
              "</table>\n",
              "</div>"
            ],
            "text/plain": [
              "               ID  NO_OF_CHILD      INCOME  ...       AGE  YEARS_EMPLOYED    TARGET\n",
              "count   25134.000    25134.000   25134.000  ... 25134.000       25134.000 25134.000\n",
              "mean  5078837.564        0.512  194833.851  ...    40.536           7.204     0.017\n",
              "std     41941.019        0.788  104510.987  ...     9.559           6.414     0.128\n",
              "min   5008806.000        0.000   27000.000  ...    21.000           0.000     0.000\n",
              "25%   5042228.250        0.000  135000.000  ...    33.000           3.000     0.000\n",
              "50%   5079004.000        0.000  180000.000  ...    40.000           5.000     0.000\n",
              "75%   5115603.750        1.000  225000.000  ...    48.000          10.000     0.000\n",
              "max   5150487.000       19.000 1575000.000  ...    67.000          43.000     1.000\n",
              "\n",
              "[8 rows x 12 columns]"
            ]
          },
          "metadata": {
            "tags": []
          },
          "execution_count": 12
        }
      ]
    },
    {
      "cell_type": "code",
      "metadata": {
        "colab": {
          "base_uri": "https://localhost:8080/",
          "height": 557
        },
        "id": "_wZirMDhx9yc",
        "outputId": "652a4173-f1fc-47d8-9506-73dd71c9a0c3"
      },
      "source": [
        "# Distribution of statistical values\n",
        "df.hist(figsize=(20,12))\n",
        "plt.show()"
      ],
      "execution_count": null,
      "outputs": [
        {
          "output_type": "display_data",
          "data": {
            "image/png": "[encoded data removed]",
            "text/plain": [
              "<Figure size 1440x864 with 12 Axes>"
            ]
          },
          "metadata": {
            "tags": []
          }
        }
      ]
    },
    {
      "cell_type": "code",
      "metadata": {
        "colab": {
          "base_uri": "https://localhost:8080/",
          "height": 172
        },
        "id": "IT7ZJSk8yUDC",
        "outputId": "3cf67634-479c-4530-841c-a46ba9a1410c"
      },
      "source": [
        "# Cat. v\n",
        "df.describe(include='O')"
      ],
      "execution_count": null,
      "outputs": [
        {
          "output_type": "execute_result",
          "data": {
            "text/html": [
              "<div>\n",
              "<style scoped>\n",
              "    .dataframe tbody tr th:only-of-type {\n",
              "        vertical-align: middle;\n",
              "    }\n",
              "\n",
              "    .dataframe tbody tr th {\n",
              "        vertical-align: top;\n",
              "    }\n",
              "\n",
              "    .dataframe thead th {\n",
              "        text-align: right;\n",
              "    }\n",
              "</style>\n",
              "<table border=\"1\" class=\"dataframe\">\n",
              "  <thead>\n",
              "    <tr style=\"text-align: right;\">\n",
              "      <th></th>\n",
              "      <th>GENDER</th>\n",
              "      <th>CAR</th>\n",
              "      <th>REALITY</th>\n",
              "      <th>INCOME_TYPE</th>\n",
              "      <th>EDUCATION_TYPE</th>\n",
              "      <th>FAMILY_TYPE</th>\n",
              "      <th>HOUSE_TYPE</th>\n",
              "    </tr>\n",
              "  </thead>\n",
              "  <tbody>\n",
              "    <tr>\n",
              "      <th>count</th>\n",
              "      <td>25134</td>\n",
              "      <td>25134</td>\n",
              "      <td>25134</td>\n",
              "      <td>25134</td>\n",
              "      <td>25134</td>\n",
              "      <td>25134</td>\n",
              "      <td>25134</td>\n",
              "    </tr>\n",
              "    <tr>\n",
              "      <th>unique</th>\n",
              "      <td>2</td>\n",
              "      <td>2</td>\n",
              "      <td>2</td>\n",
              "      <td>5</td>\n",
              "      <td>5</td>\n",
              "      <td>5</td>\n",
              "      <td>6</td>\n",
              "    </tr>\n",
              "    <tr>\n",
              "      <th>top</th>\n",
              "      <td>F</td>\n",
              "      <td>N</td>\n",
              "      <td>Y</td>\n",
              "      <td>Working</td>\n",
              "      <td>Secondary / secondary special</td>\n",
              "      <td>Married</td>\n",
              "      <td>House / apartment</td>\n",
              "    </tr>\n",
              "    <tr>\n",
              "      <th>freq</th>\n",
              "      <td>15630</td>\n",
              "      <td>14618</td>\n",
              "      <td>16461</td>\n",
              "      <td>15622</td>\n",
              "      <td>16808</td>\n",
              "      <td>17509</td>\n",
              "      <td>22102</td>\n",
              "    </tr>\n",
              "  </tbody>\n",
              "</table>\n",
              "</div>"
            ],
            "text/plain": [
              "       GENDER    CAR  ... FAMILY_TYPE         HOUSE_TYPE\n",
              "count   25134  25134  ...       25134              25134\n",
              "unique      2      2  ...           5                  6\n",
              "top         F      N  ...     Married  House / apartment\n",
              "freq    15630  14618  ...       17509              22102\n",
              "\n",
              "[4 rows x 7 columns]"
            ]
          },
          "metadata": {
            "tags": []
          },
          "execution_count": 14
        }
      ]
    },
    {
      "cell_type": "code",
      "metadata": {
        "colab": {
          "base_uri": "https://localhost:8080/"
        },
        "id": "xcGDoLkJyro6",
        "outputId": "d9574b2f-f723-40e5-ce6b-1b596900adb6"
      },
      "source": [
        "# Cat v with thier values\n",
        "cols = df.describe(include='O').columns\n",
        "for i in cols:\n",
        "  print(\"Distinct_values :\\n 'column_name' =\", i)\n",
        "  print(df[i].unique())\n",
        "  print('')"
      ],
      "execution_count": null,
      "outputs": [
        {
          "output_type": "stream",
          "text": [
            "Distinct_values :\n",
            " 'column_name' = GENDER\n",
            "['M' 'F']\n",
            "\n",
            "Distinct_values :\n",
            " 'column_name' = CAR\n",
            "['Y' 'N']\n",
            "\n",
            "Distinct_values :\n",
            " 'column_name' = REALITY\n",
            "['Y' 'N']\n",
            "\n",
            "Distinct_values :\n",
            " 'column_name' = INCOME_TYPE\n",
            "['Working' 'Commercial associate' 'State servant' 'Student' 'Pensioner']\n",
            "\n",
            "Distinct_values :\n",
            " 'column_name' = EDUCATION_TYPE\n",
            "['Secondary / secondary special' 'Higher education' 'Incomplete higher'\n",
            " 'Lower secondary' 'Academic degree']\n",
            "\n",
            "Distinct_values :\n",
            " 'column_name' = FAMILY_TYPE\n",
            "['Married' 'Single / not married' 'Civil marriage' 'Separated' 'Widow']\n",
            "\n",
            "Distinct_values :\n",
            " 'column_name' = HOUSE_TYPE\n",
            "['House / apartment' 'Rented apartment' 'Municipal apartment'\n",
            " 'With parents' 'Co-op apartment' 'Office apartment']\n",
            "\n"
          ],
          "name": "stdout"
        }
      ]
    },
    {
      "cell_type": "code",
      "metadata": {
        "colab": {
          "base_uri": "https://localhost:8080/",
          "height": 568
        },
        "id": "OswcqdefzqoF",
        "outputId": "f555704c-1ac0-464f-aca9-080325f88937"
      },
      "source": [
        "# Drop variable FLAG_MOBIL as all values = 1\n",
        "plt.figure(figsize=(8,8))\n",
        "sns.heatmap(df.drop('FLAG_MOBIL', axis=1).corr(), cmap='Blues', annot=True, fmt='.2f')\n",
        "plt.show()"
      ],
      "execution_count": null,
      "outputs": [
        {
          "output_type": "display_data",
          "data": {
            "image/png": "[encoded data removed]",
            "text/plain": [
              "<Figure size 576x576 with 2 Axes>"
            ]
          },
          "metadata": {
            "tags": []
          }
        }
      ]
    },
    {
      "cell_type": "markdown",
      "metadata": {
        "id": "jpnLG8aS27fA"
      },
      "source": [
        "Data preparation"
      ]
    },
    {
      "cell_type": "code",
      "metadata": {
        "colab": {
          "base_uri": "https://localhost:8080/",
          "height": 257
        },
        "id": "J6X4c-HS00Am",
        "outputId": "01a634d3-85ef-4c4a-e890-d188d5bdfbe0"
      },
      "source": [
        "# Remap to integers\n",
        "df['GENDER'] = [0 if x == 'M' else 1 for x in df['GENDER']]\n",
        "df['CAR'] = [1 if x == 'Y' else 0 for x in df['CAR']]\n",
        "df['REALITY'] = [1 if x == 'Y' else 0 for x in df['REALITY']]\n",
        "\n",
        "# Create dummy variables\n",
        "dummy_income_type = pd.get_dummies(df['INCOME_TYPE'], prefix='INC_TYPE', drop_first=True)\n",
        "dummy_edu_type = pd.get_dummies(df['EDUCATION_TYPE'], prefix='EDU_TYPE', drop_first=True)\n",
        "dummy_family_type = pd.get_dummies(df['FAMILY_TYPE'], prefix='FAM_TYPE', drop_first=True)\n",
        "dummy_house_type = pd.get_dummies(df['HOUSE_TYPE'], prefix='HOUSE_TYPE', drop_first=True)\n",
        "\n",
        "# Drop unnecessary columns\n",
        "to_drop = ['ID', 'FLAG_MOBIL', 'INCOME_TYPE',\n",
        "           'EDUCATION_TYPE', 'FAMILY_TYPE', 'HOUSE_TYPE']\n",
        "df.drop(to_drop, axis=1, inplace=True)\n",
        "\n",
        "# Merge into a single dataframe\n",
        "merged = pd.concat([df, dummy_income_type, dummy_edu_type, dummy_family_type, dummy_house_type], axis=1)\n",
        "merged.head()"
      ],
      "execution_count": null,
      "outputs": [
        {
          "output_type": "execute_result",
          "data": {
            "text/html": [
              "<div>\n",
              "<style scoped>\n",
              "    .dataframe tbody tr th:only-of-type {\n",
              "        vertical-align: middle;\n",
              "    }\n",
              "\n",
              "    .dataframe tbody tr th {\n",
              "        vertical-align: top;\n",
              "    }\n",
              "\n",
              "    .dataframe thead th {\n",
              "        text-align: right;\n",
              "    }\n",
              "</style>\n",
              "<table border=\"1\" class=\"dataframe\">\n",
              "  <thead>\n",
              "    <tr style=\"text-align: right;\">\n",
              "      <th></th>\n",
              "      <th>GENDER</th>\n",
              "      <th>CAR</th>\n",
              "      <th>REALITY</th>\n",
              "      <th>NO_OF_CHILD</th>\n",
              "      <th>INCOME</th>\n",
              "      <th>WORK_PHONE</th>\n",
              "      <th>PHONE</th>\n",
              "      <th>E_MAIL</th>\n",
              "      <th>FAMILY SIZE</th>\n",
              "      <th>BEGIN_MONTH</th>\n",
              "      <th>AGE</th>\n",
              "      <th>YEARS_EMPLOYED</th>\n",
              "      <th>TARGET</th>\n",
              "      <th>INC_TYPE_Pensioner</th>\n",
              "      <th>INC_TYPE_State servant</th>\n",
              "      <th>INC_TYPE_Student</th>\n",
              "      <th>INC_TYPE_Working</th>\n",
              "      <th>EDU_TYPE_Higher education</th>\n",
              "      <th>EDU_TYPE_Incomplete higher</th>\n",
              "      <th>EDU_TYPE_Lower secondary</th>\n",
              "      <th>EDU_TYPE_Secondary / secondary special</th>\n",
              "      <th>FAM_TYPE_Married</th>\n",
              "      <th>FAM_TYPE_Separated</th>\n",
              "      <th>FAM_TYPE_Single / not married</th>\n",
              "      <th>FAM_TYPE_Widow</th>\n",
              "      <th>HOUSE_TYPE_House / apartment</th>\n",
              "      <th>HOUSE_TYPE_Municipal apartment</th>\n",
              "      <th>HOUSE_TYPE_Office apartment</th>\n",
              "      <th>HOUSE_TYPE_Rented apartment</th>\n",
              "      <th>HOUSE_TYPE_With parents</th>\n",
              "    </tr>\n",
              "  </thead>\n",
              "  <tbody>\n",
              "    <tr>\n",
              "      <th>0</th>\n",
              "      <td>0</td>\n",
              "      <td>1</td>\n",
              "      <td>1</td>\n",
              "      <td>0</td>\n",
              "      <td>112500.000</td>\n",
              "      <td>0</td>\n",
              "      <td>0</td>\n",
              "      <td>0</td>\n",
              "      <td>2.000</td>\n",
              "      <td>29</td>\n",
              "      <td>59</td>\n",
              "      <td>3</td>\n",
              "      <td>0</td>\n",
              "      <td>0</td>\n",
              "      <td>0</td>\n",
              "      <td>0</td>\n",
              "      <td>1</td>\n",
              "      <td>0</td>\n",
              "      <td>0</td>\n",
              "      <td>0</td>\n",
              "      <td>1</td>\n",
              "      <td>1</td>\n",
              "      <td>0</td>\n",
              "      <td>0</td>\n",
              "      <td>0</td>\n",
              "      <td>1</td>\n",
              "      <td>0</td>\n",
              "      <td>0</td>\n",
              "      <td>0</td>\n",
              "      <td>0</td>\n",
              "    </tr>\n",
              "    <tr>\n",
              "      <th>1</th>\n",
              "      <td>1</td>\n",
              "      <td>0</td>\n",
              "      <td>1</td>\n",
              "      <td>0</td>\n",
              "      <td>270000.000</td>\n",
              "      <td>0</td>\n",
              "      <td>1</td>\n",
              "      <td>1</td>\n",
              "      <td>1.000</td>\n",
              "      <td>4</td>\n",
              "      <td>52</td>\n",
              "      <td>8</td>\n",
              "      <td>0</td>\n",
              "      <td>0</td>\n",
              "      <td>0</td>\n",
              "      <td>0</td>\n",
              "      <td>0</td>\n",
              "      <td>0</td>\n",
              "      <td>0</td>\n",
              "      <td>0</td>\n",
              "      <td>1</td>\n",
              "      <td>0</td>\n",
              "      <td>0</td>\n",
              "      <td>1</td>\n",
              "      <td>0</td>\n",
              "      <td>1</td>\n",
              "      <td>0</td>\n",
              "      <td>0</td>\n",
              "      <td>0</td>\n",
              "      <td>0</td>\n",
              "    </tr>\n",
              "    <tr>\n",
              "      <th>2</th>\n",
              "      <td>1</td>\n",
              "      <td>0</td>\n",
              "      <td>1</td>\n",
              "      <td>0</td>\n",
              "      <td>270000.000</td>\n",
              "      <td>0</td>\n",
              "      <td>1</td>\n",
              "      <td>1</td>\n",
              "      <td>1.000</td>\n",
              "      <td>26</td>\n",
              "      <td>52</td>\n",
              "      <td>8</td>\n",
              "      <td>0</td>\n",
              "      <td>0</td>\n",
              "      <td>0</td>\n",
              "      <td>0</td>\n",
              "      <td>0</td>\n",
              "      <td>0</td>\n",
              "      <td>0</td>\n",
              "      <td>0</td>\n",
              "      <td>1</td>\n",
              "      <td>0</td>\n",
              "      <td>0</td>\n",
              "      <td>1</td>\n",
              "      <td>0</td>\n",
              "      <td>1</td>\n",
              "      <td>0</td>\n",
              "      <td>0</td>\n",
              "      <td>0</td>\n",
              "      <td>0</td>\n",
              "    </tr>\n",
              "    <tr>\n",
              "      <th>3</th>\n",
              "      <td>1</td>\n",
              "      <td>0</td>\n",
              "      <td>1</td>\n",
              "      <td>0</td>\n",
              "      <td>270000.000</td>\n",
              "      <td>0</td>\n",
              "      <td>1</td>\n",
              "      <td>1</td>\n",
              "      <td>1.000</td>\n",
              "      <td>26</td>\n",
              "      <td>52</td>\n",
              "      <td>8</td>\n",
              "      <td>0</td>\n",
              "      <td>0</td>\n",
              "      <td>0</td>\n",
              "      <td>0</td>\n",
              "      <td>0</td>\n",
              "      <td>0</td>\n",
              "      <td>0</td>\n",
              "      <td>0</td>\n",
              "      <td>1</td>\n",
              "      <td>0</td>\n",
              "      <td>0</td>\n",
              "      <td>1</td>\n",
              "      <td>0</td>\n",
              "      <td>1</td>\n",
              "      <td>0</td>\n",
              "      <td>0</td>\n",
              "      <td>0</td>\n",
              "      <td>0</td>\n",
              "    </tr>\n",
              "    <tr>\n",
              "      <th>4</th>\n",
              "      <td>1</td>\n",
              "      <td>0</td>\n",
              "      <td>1</td>\n",
              "      <td>0</td>\n",
              "      <td>270000.000</td>\n",
              "      <td>0</td>\n",
              "      <td>1</td>\n",
              "      <td>1</td>\n",
              "      <td>1.000</td>\n",
              "      <td>38</td>\n",
              "      <td>52</td>\n",
              "      <td>8</td>\n",
              "      <td>0</td>\n",
              "      <td>0</td>\n",
              "      <td>0</td>\n",
              "      <td>0</td>\n",
              "      <td>0</td>\n",
              "      <td>0</td>\n",
              "      <td>0</td>\n",
              "      <td>0</td>\n",
              "      <td>1</td>\n",
              "      <td>0</td>\n",
              "      <td>0</td>\n",
              "      <td>1</td>\n",
              "      <td>0</td>\n",
              "      <td>1</td>\n",
              "      <td>0</td>\n",
              "      <td>0</td>\n",
              "      <td>0</td>\n",
              "      <td>0</td>\n",
              "    </tr>\n",
              "  </tbody>\n",
              "</table>\n",
              "</div>"
            ],
            "text/plain": [
              "   GENDER  CAR  ...  HOUSE_TYPE_Rented apartment  HOUSE_TYPE_With parents\n",
              "0       0    1  ...                            0                        0\n",
              "1       1    0  ...                            0                        0\n",
              "2       1    0  ...                            0                        0\n",
              "3       1    0  ...                            0                        0\n",
              "4       1    0  ...                            0                        0\n",
              "\n",
              "[5 rows x 30 columns]"
            ]
          },
          "metadata": {
            "tags": []
          },
          "execution_count": 17
        }
      ]
    },
    {
      "cell_type": "markdown",
      "metadata": {
        "id": "xOBipiJI5Cqg"
      },
      "source": [
        "Data scaling"
      ]
    },
    {
      "cell_type": "code",
      "metadata": {
        "colab": {
          "base_uri": "https://localhost:8080/",
          "height": 257
        },
        "id": "0_ekZfzY49pd",
        "outputId": "ff2df9ba-c657-4975-e699-5a6ffdd5bc76"
      },
      "source": [
        "from sklearn.preprocessing import MinMaxScaler\n",
        "\n",
        "# Scale only columns where value > 1\n",
        "to_scale = [col for col in df.columns if df[col].max() > 1]\n",
        "mms = MinMaxScaler()\n",
        "scaled = mms.fit_transform(merged[to_scale])\n",
        "scaled = pd.DataFrame(scaled, columns=to_scale)\n",
        "\n",
        "# Replace original columns with scaled values\n",
        "for col in scaled:\n",
        "  merged[col] = scaled[col]\n",
        "\n",
        "merged.head()"
      ],
      "execution_count": null,
      "outputs": [
        {
          "output_type": "execute_result",
          "data": {
            "text/html": [
              "<div>\n",
              "<style scoped>\n",
              "    .dataframe tbody tr th:only-of-type {\n",
              "        vertical-align: middle;\n",
              "    }\n",
              "\n",
              "    .dataframe tbody tr th {\n",
              "        vertical-align: top;\n",
              "    }\n",
              "\n",
              "    .dataframe thead th {\n",
              "        text-align: right;\n",
              "    }\n",
              "</style>\n",
              "<table border=\"1\" class=\"dataframe\">\n",
              "  <thead>\n",
              "    <tr style=\"text-align: right;\">\n",
              "      <th></th>\n",
              "      <th>GENDER</th>\n",
              "      <th>CAR</th>\n",
              "      <th>REALITY</th>\n",
              "      <th>NO_OF_CHILD</th>\n",
              "      <th>INCOME</th>\n",
              "      <th>WORK_PHONE</th>\n",
              "      <th>PHONE</th>\n",
              "      <th>E_MAIL</th>\n",
              "      <th>FAMILY SIZE</th>\n",
              "      <th>BEGIN_MONTH</th>\n",
              "      <th>AGE</th>\n",
              "      <th>YEARS_EMPLOYED</th>\n",
              "      <th>TARGET</th>\n",
              "      <th>INC_TYPE_Pensioner</th>\n",
              "      <th>INC_TYPE_State servant</th>\n",
              "      <th>INC_TYPE_Student</th>\n",
              "      <th>INC_TYPE_Working</th>\n",
              "      <th>EDU_TYPE_Higher education</th>\n",
              "      <th>EDU_TYPE_Incomplete higher</th>\n",
              "      <th>EDU_TYPE_Lower secondary</th>\n",
              "      <th>EDU_TYPE_Secondary / secondary special</th>\n",
              "      <th>FAM_TYPE_Married</th>\n",
              "      <th>FAM_TYPE_Separated</th>\n",
              "      <th>FAM_TYPE_Single / not married</th>\n",
              "      <th>FAM_TYPE_Widow</th>\n",
              "      <th>HOUSE_TYPE_House / apartment</th>\n",
              "      <th>HOUSE_TYPE_Municipal apartment</th>\n",
              "      <th>HOUSE_TYPE_Office apartment</th>\n",
              "      <th>HOUSE_TYPE_Rented apartment</th>\n",
              "      <th>HOUSE_TYPE_With parents</th>\n",
              "    </tr>\n",
              "  </thead>\n",
              "  <tbody>\n",
              "    <tr>\n",
              "      <th>0</th>\n",
              "      <td>0</td>\n",
              "      <td>1</td>\n",
              "      <td>1</td>\n",
              "      <td>0.000</td>\n",
              "      <td>0.055</td>\n",
              "      <td>0</td>\n",
              "      <td>0</td>\n",
              "      <td>0</td>\n",
              "      <td>0.053</td>\n",
              "      <td>0.483</td>\n",
              "      <td>0.826</td>\n",
              "      <td>0.070</td>\n",
              "      <td>0</td>\n",
              "      <td>0</td>\n",
              "      <td>0</td>\n",
              "      <td>0</td>\n",
              "      <td>1</td>\n",
              "      <td>0</td>\n",
              "      <td>0</td>\n",
              "      <td>0</td>\n",
              "      <td>1</td>\n",
              "      <td>1</td>\n",
              "      <td>0</td>\n",
              "      <td>0</td>\n",
              "      <td>0</td>\n",
              "      <td>1</td>\n",
              "      <td>0</td>\n",
              "      <td>0</td>\n",
              "      <td>0</td>\n",
              "      <td>0</td>\n",
              "    </tr>\n",
              "    <tr>\n",
              "      <th>1</th>\n",
              "      <td>1</td>\n",
              "      <td>0</td>\n",
              "      <td>1</td>\n",
              "      <td>0.000</td>\n",
              "      <td>0.157</td>\n",
              "      <td>0</td>\n",
              "      <td>1</td>\n",
              "      <td>1</td>\n",
              "      <td>0.000</td>\n",
              "      <td>0.067</td>\n",
              "      <td>0.674</td>\n",
              "      <td>0.186</td>\n",
              "      <td>0</td>\n",
              "      <td>0</td>\n",
              "      <td>0</td>\n",
              "      <td>0</td>\n",
              "      <td>0</td>\n",
              "      <td>0</td>\n",
              "      <td>0</td>\n",
              "      <td>0</td>\n",
              "      <td>1</td>\n",
              "      <td>0</td>\n",
              "      <td>0</td>\n",
              "      <td>1</td>\n",
              "      <td>0</td>\n",
              "      <td>1</td>\n",
              "      <td>0</td>\n",
              "      <td>0</td>\n",
              "      <td>0</td>\n",
              "      <td>0</td>\n",
              "    </tr>\n",
              "    <tr>\n",
              "      <th>2</th>\n",
              "      <td>1</td>\n",
              "      <td>0</td>\n",
              "      <td>1</td>\n",
              "      <td>0.000</td>\n",
              "      <td>0.157</td>\n",
              "      <td>0</td>\n",
              "      <td>1</td>\n",
              "      <td>1</td>\n",
              "      <td>0.000</td>\n",
              "      <td>0.433</td>\n",
              "      <td>0.674</td>\n",
              "      <td>0.186</td>\n",
              "      <td>0</td>\n",
              "      <td>0</td>\n",
              "      <td>0</td>\n",
              "      <td>0</td>\n",
              "      <td>0</td>\n",
              "      <td>0</td>\n",
              "      <td>0</td>\n",
              "      <td>0</td>\n",
              "      <td>1</td>\n",
              "      <td>0</td>\n",
              "      <td>0</td>\n",
              "      <td>1</td>\n",
              "      <td>0</td>\n",
              "      <td>1</td>\n",
              "      <td>0</td>\n",
              "      <td>0</td>\n",
              "      <td>0</td>\n",
              "      <td>0</td>\n",
              "    </tr>\n",
              "    <tr>\n",
              "      <th>3</th>\n",
              "      <td>1</td>\n",
              "      <td>0</td>\n",
              "      <td>1</td>\n",
              "      <td>0.000</td>\n",
              "      <td>0.157</td>\n",
              "      <td>0</td>\n",
              "      <td>1</td>\n",
              "      <td>1</td>\n",
              "      <td>0.000</td>\n",
              "      <td>0.433</td>\n",
              "      <td>0.674</td>\n",
              "      <td>0.186</td>\n",
              "      <td>0</td>\n",
              "      <td>0</td>\n",
              "      <td>0</td>\n",
              "      <td>0</td>\n",
              "      <td>0</td>\n",
              "      <td>0</td>\n",
              "      <td>0</td>\n",
              "      <td>0</td>\n",
              "      <td>1</td>\n",
              "      <td>0</td>\n",
              "      <td>0</td>\n",
              "      <td>1</td>\n",
              "      <td>0</td>\n",
              "      <td>1</td>\n",
              "      <td>0</td>\n",
              "      <td>0</td>\n",
              "      <td>0</td>\n",
              "      <td>0</td>\n",
              "    </tr>\n",
              "    <tr>\n",
              "      <th>4</th>\n",
              "      <td>1</td>\n",
              "      <td>0</td>\n",
              "      <td>1</td>\n",
              "      <td>0.000</td>\n",
              "      <td>0.157</td>\n",
              "      <td>0</td>\n",
              "      <td>1</td>\n",
              "      <td>1</td>\n",
              "      <td>0.000</td>\n",
              "      <td>0.633</td>\n",
              "      <td>0.674</td>\n",
              "      <td>0.186</td>\n",
              "      <td>0</td>\n",
              "      <td>0</td>\n",
              "      <td>0</td>\n",
              "      <td>0</td>\n",
              "      <td>0</td>\n",
              "      <td>0</td>\n",
              "      <td>0</td>\n",
              "      <td>0</td>\n",
              "      <td>1</td>\n",
              "      <td>0</td>\n",
              "      <td>0</td>\n",
              "      <td>1</td>\n",
              "      <td>0</td>\n",
              "      <td>1</td>\n",
              "      <td>0</td>\n",
              "      <td>0</td>\n",
              "      <td>0</td>\n",
              "      <td>0</td>\n",
              "    </tr>\n",
              "  </tbody>\n",
              "</table>\n",
              "</div>"
            ],
            "text/plain": [
              "   GENDER  CAR  ...  HOUSE_TYPE_Rented apartment  HOUSE_TYPE_With parents\n",
              "0       0    1  ...                            0                        0\n",
              "1       1    0  ...                            0                        0\n",
              "2       1    0  ...                            0                        0\n",
              "3       1    0  ...                            0                        0\n",
              "4       1    0  ...                            0                        0\n",
              "\n",
              "[5 rows x 30 columns]"
            ]
          },
          "metadata": {
            "tags": []
          },
          "execution_count": 18
        }
      ]
    },
    {
      "cell_type": "code",
      "metadata": {
        "colab": {
          "base_uri": "https://localhost:8080/"
        },
        "id": "hI8_ja9X6TQd",
        "outputId": "4c3a2bb9-0ccf-42a5-dc69-a20496da30b8"
      },
      "source": [
        "# Shape dataframe\n",
        "print('Rows    :', merged.shape[0])\n",
        "print('Columns :', merged.shape[1])"
      ],
      "execution_count": null,
      "outputs": [
        {
          "output_type": "stream",
          "text": [
            "Rows    : 25134\n",
            "Columns : 30\n"
          ],
          "name": "stdout"
        }
      ]
    },
    {
      "cell_type": "markdown",
      "metadata": {
        "id": "bIo7YRoz75_h"
      },
      "source": [
        "ML with SMOTE"
      ]
    },
    {
      "cell_type": "code",
      "metadata": {
        "colab": {
          "base_uri": "https://localhost:8080/"
        },
        "id": "7fYqjVaB6srP",
        "outputId": "2fed676d-0524-47d5-df2f-ebe77ca12215"
      },
      "source": [
        "from sklearn.model_selection import train_test_split\n",
        "X = merged.drop('TARGET', axis=1)\n",
        "y = merged['TARGET']\n",
        "\n",
        "# Split data\n",
        "X_train, X_test, y_train, y_test = train_test_split(\n",
        "    X, y, test_size=0.2, random_state=43\n",
        ")\n",
        "\n",
        "print(f'''% Positive class in Train = {np.round(y_train.value_counts(normalize=True)[1] * 100, 2)}\n",
        "% Positive class in Test  = {np.round(y_test.value_counts(normalize=True)[1] * 100, 2)}''')"
      ],
      "execution_count": null,
      "outputs": [
        {
          "output_type": "stream",
          "text": [
            "% Positive class in Train = 1.66\n",
            "% Positive class in Test  = 1.75\n"
          ],
          "name": "stdout"
        }
      ]
    },
    {
      "cell_type": "code",
      "metadata": {
        "colab": {
          "base_uri": "https://localhost:8080/",
          "height": 461
        },
        "id": "xhi0kCcN8vjD",
        "outputId": "48cd202c-2554-415b-ee05-2326741c5447"
      },
      "source": [
        "from sklearn.ensemble import RandomForestClassifier\n",
        "from sklearn.metrics import accuracy_score, recall_score, confusion_matrix\n",
        "\n",
        "# Train classifier\n",
        "rf = RandomForestClassifier(random_state=43)\n",
        "rf.fit(X_train, y_train)\n",
        "preds = rf.predict(X_test)\n",
        "\n",
        "# Evaluate\n",
        "print(f'Accuracy = {accuracy_score(y_test, preds):.2f}\\n Recall = {recall_score(y_test, preds):.2f}\\n')\n",
        "cm = confusion_matrix(y_test, preds)\n",
        "plt.figure(figsize=(8,6))\n",
        "plt.title('Confusion Matrix (without SMOTE)', size=16)\n",
        "sns.heatmap(cm, annot=True, cmap='Blues')"
      ],
      "execution_count": null,
      "outputs": [
        {
          "output_type": "stream",
          "text": [
            "Accuracy = 0.98\n",
            " Recall = 0.15\n",
            "\n"
          ],
          "name": "stdout"
        },
        {
          "output_type": "execute_result",
          "data": {
            "text/plain": [
              "<matplotlib.axes._subplots.AxesSubplot at 0x7f6f59f09860>"
            ]
          },
          "metadata": {
            "tags": []
          },
          "execution_count": 21
        },
        {
          "output_type": "display_data",
          "data": {
            "image/png": "[encoded data removed]",
            "text/plain": [
              "<Figure size 576x432 with 2 Axes>"
            ]
          },
          "metadata": {
            "tags": []
          }
        }
      ]
    },
    {
      "cell_type": "markdown",
      "metadata": {
        "id": "nI7Ht94oPXwV"
      },
      "source": [
        "* F1-score: the harmonic-mean of the Precision​ and Recall, 15% for 'Fraud' transactions"
      ]
    },
    {
      "cell_type": "code",
      "metadata": {
        "colab": {
          "base_uri": "https://localhost:8080/",
          "height": 404
        },
        "id": "8ec9HItbTv8N",
        "outputId": "9d6d2ca8-b894-4872-f6a2-d5840ff1cc92"
      },
      "source": [
        "# ROC curve\n",
        "from sklearn.metrics import plot_roc_curve\n",
        "fig, ax = plt.subplots(figsize=(8,6))\n",
        "plot_roc_curve(rf, X_test, y_test, ax=ax)\n",
        "ax.plot([0, 1], [0, 1], linestyle='--', lw=2, color='r', label='TARGET', alpha=.8)\n",
        "ax.set_title('ROC Curve on the Test Set')\n",
        "plt.show()"
      ],
      "execution_count": null,
      "outputs": [
        {
          "output_type": "display_data",
          "data": {
            "image/png": "[encoded data removed]",
            "text/plain": [
              "<Figure size 576x432 with 1 Axes>"
            ]
          },
          "metadata": {
            "tags": []
          }
        }
      ]
    },
    {
      "cell_type": "markdown",
      "metadata": {
        "id": "B480T8STDKNf"
      },
      "source": [
        "ML with SMOTE"
      ]
    },
    {
      "cell_type": "code",
      "metadata": {
        "colab": {
          "base_uri": "https://localhost:8080/"
        },
        "id": "pDv5u0ilEsoD",
        "outputId": "7ebe395b-599d-495a-945b-04b3a4eec61e"
      },
      "source": [
        "!pip install imbalanced-learn"
      ],
      "execution_count": null,
      "outputs": [
        {
          "output_type": "stream",
          "text": [
            "Requirement already satisfied: imbalanced-learn in /usr/local/lib/python3.6/dist-packages (0.4.3)\n",
            "Requirement already satisfied: numpy>=1.8.2 in /usr/local/lib/python3.6/dist-packages (from imbalanced-learn) (1.18.5)\n",
            "Requirement already satisfied: scikit-learn>=0.20 in /usr/local/lib/python3.6/dist-packages (from imbalanced-learn) (0.22.2.post1)\n",
            "Requirement already satisfied: scipy>=0.13.3 in /usr/local/lib/python3.6/dist-packages (from imbalanced-learn) (1.4.1)\n",
            "Requirement already satisfied: joblib>=0.11 in /usr/local/lib/python3.6/dist-packages (from scikit-learn>=0.20->imbalanced-learn) (0.17.0)\n"
          ],
          "name": "stdout"
        }
      ]
    },
    {
      "cell_type": "code",
      "metadata": {
        "colab": {
          "base_uri": "https://localhost:8080/"
        },
        "id": "ZODRQNYV9vsw",
        "outputId": "115e92ef-f10d-47d4-c756-6a3825ae1477"
      },
      "source": [
        "from imblearn.over_sampling import SMOTE \n",
        "sm = SMOTE(random_state=43)\n",
        "X_sm, y_sm = sm.fit_resample(X, y)\n",
        "\n",
        "print(f'''Shape of X before SMOTE: {X.shape}\n",
        "Shape of X after SMOTE: {X_sm.shape}''')"
      ],
      "execution_count": null,
      "outputs": [
        {
          "output_type": "stream",
          "text": [
            "Shape of X before SMOTE: (25134, 29)\n",
            "Shape of X after SMOTE: (49424, 29)\n"
          ],
          "name": "stdout"
        }
      ]
    },
    {
      "cell_type": "code",
      "metadata": {
        "colab": {
          "base_uri": "https://localhost:8080/",
          "height": 384
        },
        "id": "cGv3XE_BbmW2",
        "outputId": "d5b10a13-08e8-4573-c0b5-1f1fde8e8119"
      },
      "source": [
        "sns.countplot(y_sm).set_title('Class Distribution \\n (0: Genuine || 1: Fraud)', size=20, pad=30)\n",
        "print(merged.TARGET.value_counts(normalize=True))\n",
        "plt.show()"
      ],
      "execution_count": null,
      "outputs": [
        {
          "output_type": "stream",
          "text": [
            "0   0.983\n",
            "1   0.017\n",
            "Name: TARGET, dtype: float64\n"
          ],
          "name": "stdout"
        },
        {
          "output_type": "display_data",
          "data": {
            "image/png": "[encoded data removed]",
            "text/plain": [
              "<Figure size 432x288 with 1 Axes>"
            ]
          },
          "metadata": {
            "tags": []
          }
        }
      ]
    },
    {
      "cell_type": "code",
      "metadata": {
        "colab": {
          "base_uri": "https://localhost:8080/",
          "height": 444
        },
        "id": "5fdfMkpYDoBo",
        "outputId": "10bbfdaa-609a-42bd-96da-b87716b54d54"
      },
      "source": [
        "X_train, X_test, y_train, y_test = train_test_split(\n",
        "    X_sm, y_sm, test_size=0.2, random_state=43\n",
        ")\n",
        "\n",
        "# Train\n",
        "rf = RandomForestClassifier(random_state=32)\n",
        "rf.fit(X_train, y_train)\n",
        "preds = rf.predict(X_test)\n",
        "\n",
        "# Evaluate\n",
        "print(f'Accuracy = {accuracy_score(y_test, preds):.2f}\\nRecall = {recall_score(y_test, preds):.2f}\\n')\n",
        "cm = confusion_matrix(y_test, preds)\n",
        "plt.figure(figsize=(8,6))\n",
        "plt.title('Confusion Matrix (with SMOTE)', size=16)\n",
        "sns.heatmap(cm, annot=True, cmap='Blues');"
      ],
      "execution_count": null,
      "outputs": [
        {
          "output_type": "stream",
          "text": [
            "Accuracy = 0.99\n",
            "Recall = 0.99\n",
            "\n"
          ],
          "name": "stdout"
        },
        {
          "output_type": "display_data",
          "data": {
            "image/png": "[encoded data removed]",
            "text/plain": [
              "<Figure size 576x432 with 2 Axes>"
            ]
          },
          "metadata": {
            "tags": []
          }
        }
      ]
    },
    {
      "cell_type": "markdown",
      "metadata": {
        "id": "hnaPEITyP91Z"
      },
      "source": [
        "* F1-score: the harmonic-mean of the Precision​ and Recall, 99% for 'Fraud' transactions"
      ]
    },
    {
      "cell_type": "code",
      "metadata": {
        "colab": {
          "base_uri": "https://localhost:8080/",
          "height": 404
        },
        "id": "R4sN_Ph7O4hv",
        "outputId": "50c4bcfe-ab8d-4404-a042-21ece9255614"
      },
      "source": [
        "# ROC curve\n",
        "fig, ax = plt.subplots(figsize=(8,6))\n",
        "plot_roc_curve(rf, X_test, y_test, ax=ax)\n",
        "ax.plot([0, 1], [0, 1], linestyle='--', lw=2, color='r', label='TARGET', alpha=.8)\n",
        "ax.set_title('ROC Curve on the Test Set')\n",
        "plt.show()"
      ],
      "execution_count": null,
      "outputs": [
        {
          "output_type": "display_data",
          "data": {
            "image/png": "[encoded data removed]",
            "text/plain": [
              "<Figure size 576x432 with 1 Axes>"
            ]
          },
          "metadata": {
            "tags": []
          }
        }
      ]
    },
    {
      "cell_type": "code",
      "metadata": {
        "id": "r4CSl_CKTgGR"
      },
      "source": [
        ""
      ],
      "execution_count": null,
      "outputs": []
    }
  ]
}