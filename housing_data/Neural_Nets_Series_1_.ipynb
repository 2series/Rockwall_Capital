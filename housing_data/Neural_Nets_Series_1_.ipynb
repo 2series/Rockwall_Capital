{
  "nbformat": 4,
  "nbformat_minor": 0,
  "metadata": {
    "kernelspec": {
      "display_name": "Python 3",
      "language": "python",
      "name": "python3"
    },
    "language_info": {
      "codemirror_mode": {
        "name": "ipython",
        "version": 3
      },
      "file_extension": ".py",
      "mimetype": "text/x-python",
      "name": "python",
      "nbconvert_exporter": "python",
      "pygments_lexer": "ipython3",
      "version": "3.6.1"
    },
    "colab": {
      "name": "Neural Nets Series 1 .ipynb",
      "provenance": [],
      "collapsed_sections": []
    }
  },
  "cells": [
    {
      "cell_type": "markdown",
      "metadata": {
        "id": "Z-F5-2foNMaZ"
      },
      "source": [
        "## Neural networks\n",
        "A neural network is a series of algorithms which endeavors to recognize underlying relationships in a set of data through a process that mimics the human brain"
      ]
    },
    {
      "cell_type": "code",
      "metadata": {
        "id": "OLay4neXHeGX"
      },
      "source": [
        "# Import tensorflow\n",
        "import tensorflow as tf\n",
        "\n",
        "# Import keras from tensflow to create neural nets\n",
        "from tensorflow import keras\n",
        "\n",
        "import warnings\n",
        "warnings.filterwarnings('ignore')"
      ],
      "execution_count": 17,
      "outputs": []
    },
    {
      "cell_type": "markdown",
      "metadata": {
        "id": "hfXPoQMDeF97"
      },
      "source": [
        "We create data, for the number of units in a housing-block and there corresponding prices. Our units are priced in the range of 100k to 400k"
      ]
    },
    {
      "cell_type": "code",
      "metadata": {
        "id": "yWvBlDIcHeKu"
      },
      "source": [
        "no_of_units = (1,2,3,4,5,6,7)\n",
        "price_of_home = (100000,150000,200000,250000,300000,350000,400000)"
      ],
      "execution_count": 18,
      "outputs": []
    },
    {
      "cell_type": "markdown",
      "metadata": {
        "id": "6Pdn-uyufE0H"
      },
      "source": [
        "We create a simple NN. It has 1 layer, and that layer has 1 neuron with input shape of 1 value"
      ]
    },
    {
      "cell_type": "code",
      "metadata": {
        "id": "uGFbQYQdHeCn"
      },
      "source": [
        "model = tf.keras.Sequential([keras.layers.Dense(units=1, input_shape=[1])])"
      ],
      "execution_count": 19,
      "outputs": []
    },
    {
      "cell_type": "markdown",
      "metadata": {
        "id": "vk9fKIIVf7wy"
      },
      "source": [
        "We compile our NN with 2 functions:\n",
        "\n",
        "* optimizer - stochastic gradient descent\n",
        "* loss function - mean squared error\n",
        "\n",
        "Loss function measures the \"prediction\" againist the known correct response and measures how well or how badly the model performed\n",
        "\n",
        "Yhe optimizer function makes another prediction, based on how the loss function performed and attempt to minimize the loss"
      ]
    },
    {
      "cell_type": "code",
      "metadata": {
        "id": "cAzulz7tPhka"
      },
      "source": [
        "model.compile(optimizer='sgd', loss='mean_squared_error')"
      ],
      "execution_count": 20,
      "outputs": []
    },
    {
      "cell_type": "markdown",
      "metadata": {
        "id": "86P_92PthdoG"
      },
      "source": [
        "We train our NN to learn the relationship between no_of_units and price_of_home. The process will take 100 epochs\n",
        "\n",
        ">Epochs: data passes through the NN 500 times"
      ]
    },
    {
      "cell_type": "code",
      "metadata": {
        "id": "t4WtOFxuP_Rz"
      },
      "source": [
        "model.fit(no_of_units, price_of_home, epochs=500)"
      ],
      "execution_count": null,
      "outputs": []
    },
    {
      "cell_type": "markdown",
      "metadata": {
        "id": "37_U6wLhiktL"
      },
      "source": [
        "We use model.predict to find the price_of_home for an unknown number of units\n",
        "\n",
        "***We should get around 650k***"
      ]
    },
    {
      "cell_type": "code",
      "metadata": {
        "colab": {
          "base_uri": "https://localhost:8080/"
        },
        "id": "c9tAp_L9Qai3",
        "outputId": "80d82eba-71b8-4362-e615-8bea1d1a0a37"
      },
      "source": [
        "# Predict the price of a home with 12 units\n",
        "print(model.predict([12.0]))"
      ],
      "execution_count": 22,
      "outputs": [
        {
          "output_type": "stream",
          "text": [
            "[[657951.7]]\n"
          ],
          "name": "stdout"
        }
      ]
    },
    {
      "cell_type": "code",
      "metadata": {
        "id": "Q27xy96DRqFM"
      },
      "source": [
        ""
      ],
      "execution_count": 22,
      "outputs": []
    }
  ]
}
