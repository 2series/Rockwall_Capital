{
  "nbformat": 4,
  "nbformat_minor": 0,
  "metadata": {
    "colab": {
      "name": "ex_code.ipynb",
      "provenance": [],
      "authorship_tag": "ABX9TyMycUD21D4hdRp9A32mvcah"
    },
    "kernelspec": {
      "name": "python3",
      "display_name": "Python 3"
    }
  },
  "cells": [
    {
      "cell_type": "markdown",
      "metadata": {
        "id": "osdBPPgVVnof"
      },
      "source": [
        "File uploaded via google drive"
      ]
    },
    {
      "cell_type": "code",
      "metadata": {
        "id": "mkFLYK16Loby"
      },
      "source": [
        "# Code to read csv file into Colaboratory:\n",
        "!pip install -U -q PyDrive\n",
        "from pydrive.auth import GoogleAuth\n",
        "from pydrive.drive import GoogleDrive\n",
        "from google.colab import auth\n",
        "from oauth2client.client import GoogleCredentials\n",
        "# Authenticate and create the PyDrive client.\n",
        "auth.authenticate_user()\n",
        "gauth = GoogleAuth()\n",
        "gauth.credentials = GoogleCredentials.get_application_default()\n",
        "drive = GoogleDrive(gauth)"
      ],
      "execution_count": null,
      "outputs": []
    },
    {
      "cell_type": "code",
      "metadata": {
        "id": "BQHWmGXJMUYX"
      },
      "source": [
        "import numpy as np\n",
        "import pandas as pd\n",
        "\n",
        "import warnings\n",
        "warnings.filterwarnings('ignore')"
      ],
      "execution_count": null,
      "outputs": []
    },
    {
      "cell_type": "markdown",
      "metadata": {
        "id": "zsevQ3pXVyhA"
      },
      "source": [
        "### **Data Reading**<br>\n",
        "<ul>\n",
        "<li>Here, we are using the read_csv() from the pandas library to load data into dataframe from the remote url.\n",
        "<li>By using head() function we can view first 5 rows of dataset."
      ]
    },
    {
      "cell_type": "code",
      "metadata": {
        "id": "L_lK6ci6LxHO"
      },
      "source": [
        "linkwhite='https://drive.google.com/open?id=12nRGXBL6u38sCET_x1OmLW6Hlthob-e_'\n",
        "fluff, id2 = linkwhite.split('=')\n",
        "print (id2)\n",
        "\n",
        "downloaded = drive.CreateFile({'id':id2}) \n",
        "downloaded.GetContentFile('data.csv')  \n",
        "df = pd.read_csv('data.csv')\n",
        "df.head()"
      ],
      "execution_count": null,
      "outputs": []
    }
  ]
}