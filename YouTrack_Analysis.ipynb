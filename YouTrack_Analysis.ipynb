{
  "nbformat": 4,
  "nbformat_minor": 0,
  "metadata": {
    "colab": {
      "name": "YouTrack Analysis.ipynb",
      "provenance": [],
      "collapsed_sections": [],
      "authorship_tag": "ABX9TyPcHABlr90QI9V3nW/jMRvi",
      "include_colab_link": true
    },
    "kernelspec": {
      "name": "python3",
      "display_name": "Python 3"
    },
    "language_info": {
      "name": "python"
    }
  },
  "cells": [
    {
      "cell_type": "markdown",
      "metadata": {
        "id": "view-in-github",
        "colab_type": "text"
      },
      "source": [
        "<a href=\"https://colab.research.google.com/github/2series/Rockwall_Capital/blob/main/YouTrack_Analysis.ipynb\" target=\"_parent\"><img src=\"https://colab.research.google.com/assets/colab-badge.svg\" alt=\"Open In Colab\"/></a>"
      ]
    },
    {
      "cell_type": "markdown",
      "metadata": {
        "id": "BFT2Gv4iDkpU"
      },
      "source": [
        "![](https://media.giphy.com/media/3o7bufkPz3LRof205G/giphy.gif)"
      ]
    },
    {
      "cell_type": "markdown",
      "metadata": {
        "id": "BUg0oqPP3CH-"
      },
      "source": [
        "# Fault Analysis\n",
        "\n",
        "**Fault Analysis** to get insights into how buggy your system might be. One variant of *Fault Analysis* is to use an issue tracker (i.e., the system where you manage your issues) to compare the found and fixed bugs over time. With this analysis, you can find out if you\n",
        "\n",
        "+ have a spike in reported bugs (where you should investigate deeper to identify the primary sources of the bugs)\n",
        "+ are doing well fixing bugs (and therefore can be confident to release a stable version of your software)\n",
        "+ are keeping bugs at bay (to allow the implementation of new features in a more risk-free environment)\n",
        "\n",
        "The main goal of this post is to implement this kind of analysis\n",
        "\n",
        "In this blog / notebook, we'll demonstrate a *Fault Analysis* technique using the issues tracker system [YouTrack](https://www.jetbrains.com/youtrack/) and the Data Science framework [pandas](https://pandas.pydata.org/) – Pandas is a popular Python library used for working in tabular data (similar to the data stored in a spreadsheet). It provides helper functions to read data from various file formats like CSV, Excel spreadsheets, HTML tables, JSON, SQL, and more. We want to analyze the relatively new software product [Code With Me](https://plugins.jetbrains.com/plugin/14896-code-with-me) from Jetbrains (a plugin that enables us to share our locally running project from our IDE with anyone). The issues from Code With Me are managed in YouTrack, hosted by Jetbrains, and open to everyone. This allows us to use this issues tracker as our playground\n",
        "\n",
        "The second goal is to write as less confusing analysis code as possible. We want to achieve this by using pure pandas functionality to get a readable analysis of the defects in a software application. This said, be aware that your issue tracker might bring *Defect Analysis* to you out of the box (YouTrack does this AFAIK). Click through the reporting features of your system before you reinvent the wheel! Nevertheless, we'll show you how you can do it on your own. There might be similar use cases to track the progress of work. In these cases, you can reuse many steps from this analysis\n",
        "\n",
        "*Please note: I'm not affiliated with Jetbrains. Jetbrains simply has on open issue management system where we can get some data from in an easy way. You can do this kind of analysis with any modern issues tracker system as well*"
      ]
    },
    {
      "cell_type": "markdown",
      "metadata": {
        "id": "ABJlMvk3-4Fp"
      },
      "source": [
        "## Import pandas library"
      ]
    },
    {
      "cell_type": "code",
      "metadata": {
        "id": "ls9dkS0o-_Mv"
      },
      "source": [
        "import pandas as pd"
      ],
      "execution_count": 1,
      "outputs": []
    },
    {
      "cell_type": "markdown",
      "metadata": {
        "id": "gNh1CI8g570-"
      },
      "source": [
        "## Retrieve the data\n",
        "\n",
        "First, we have to retrieve the data we need from the issue tracker system. We can do this in various ways (direct database access, scraping the website, or using an API provided by the system). How this works depends on your tool\n",
        "\n",
        "In our case, we're using [YouTrack's REST API](https://www.jetbrains.com/help/youtrack/devportal/youtrack-rest-api.html) to download some data. To do this, we create an URL to get the data we need. We've dug deep into the YouTrack REST API documentation and found the information we needed to export bugs only with their creation and resolved timestamps. We also set an upper limit to the latest 1100 entries to not overload the available public issue tracker system"
      ]
    },
    {
      "cell_type": "code",
      "metadata": {
        "colab": {
          "base_uri": "https://localhost:8080/",
          "height": 34
        },
        "id": "56VIxlQ8x2bB",
        "outputId": "7d50e546-d7c6-495c-8138-fc7ac1bf3de6"
      },
      "source": [
        "URL = \"https://youtrack.jetbrains.com/api/issues?\" \\\n",
        "\"$top=1100&\"\\\n",
        "\"fields=created,resolved&\"\\\n",
        "\"query=Type:%20Bug%20Project%3A%20%7BCode%20With%20Me%7D\"\n",
        "\n",
        "URL"
      ],
      "execution_count": 2,
      "outputs": [
        {
          "output_type": "execute_result",
          "data": {
            "application/vnd.google.colaboratory.intrinsic+json": {
              "type": "string"
            },
            "text/plain": [
              "'https://youtrack.jetbrains.com/api/issues?$top=1100&fields=created,resolved&query=Type:%20Bug%20Project%3A%20%7BCode%20With%20Me%7D'"
            ]
          },
          "metadata": {
            "tags": []
          },
          "execution_count": 2
        }
      ]
    },
    {
      "cell_type": "markdown",
      "metadata": {
        "id": "2mt0fz9h6m0o"
      },
      "source": [
        "In our analysis, we're using the built-in read_json method of pandas. The method executes a request to YouTrack. Youtrack responds with data in the JSON format. The read_json method parses this data and creates a DataFrame where each returned field is showcased into separate columns"
      ]
    },
    {
      "cell_type": "code",
      "metadata": {
        "colab": {
          "base_uri": "https://localhost:8080/",
          "height": 416
        },
        "id": "ZPHkT4sSxywR",
        "outputId": "91d1879f-ca4d-4274-ade8-51ee4d792ece"
      },
      "source": [
        "youtrack_df = pd.read_json(URL)\n",
        "youtrack_df"
      ],
      "execution_count": 3,
      "outputs": [
        {
          "output_type": "execute_result",
          "data": {
            "text/html": [
              "<div>\n",
              "<style scoped>\n",
              "    .dataframe tbody tr th:only-of-type {\n",
              "        vertical-align: middle;\n",
              "    }\n",
              "\n",
              "    .dataframe tbody tr th {\n",
              "        vertical-align: top;\n",
              "    }\n",
              "\n",
              "    .dataframe thead th {\n",
              "        text-align: right;\n",
              "    }\n",
              "</style>\n",
              "<table border=\"1\" class=\"dataframe\">\n",
              "  <thead>\n",
              "    <tr style=\"text-align: right;\">\n",
              "      <th></th>\n",
              "      <th>resolved</th>\n",
              "      <th>created</th>\n",
              "      <th>$type</th>\n",
              "    </tr>\n",
              "  </thead>\n",
              "  <tbody>\n",
              "    <tr>\n",
              "      <th>0</th>\n",
              "      <td>NaN</td>\n",
              "      <td>1625762882126</td>\n",
              "      <td>Issue</td>\n",
              "    </tr>\n",
              "    <tr>\n",
              "      <th>1</th>\n",
              "      <td>NaN</td>\n",
              "      <td>1625763250122</td>\n",
              "      <td>Issue</td>\n",
              "    </tr>\n",
              "    <tr>\n",
              "      <th>2</th>\n",
              "      <td>NaN</td>\n",
              "      <td>1607484484129</td>\n",
              "      <td>Issue</td>\n",
              "    </tr>\n",
              "    <tr>\n",
              "      <th>3</th>\n",
              "      <td>1.625758e+12</td>\n",
              "      <td>1624959097262</td>\n",
              "      <td>Issue</td>\n",
              "    </tr>\n",
              "    <tr>\n",
              "      <th>4</th>\n",
              "      <td>1.625758e+12</td>\n",
              "      <td>1600857961089</td>\n",
              "      <td>Issue</td>\n",
              "    </tr>\n",
              "    <tr>\n",
              "      <th>...</th>\n",
              "      <td>...</td>\n",
              "      <td>...</td>\n",
              "      <td>...</td>\n",
              "    </tr>\n",
              "    <tr>\n",
              "      <th>1095</th>\n",
              "      <td>1.606974e+12</td>\n",
              "      <td>1602318321660</td>\n",
              "      <td>Issue</td>\n",
              "    </tr>\n",
              "    <tr>\n",
              "      <th>1096</th>\n",
              "      <td>1.606974e+12</td>\n",
              "      <td>1602256253762</td>\n",
              "      <td>Issue</td>\n",
              "    </tr>\n",
              "    <tr>\n",
              "      <th>1097</th>\n",
              "      <td>1.612120e+12</td>\n",
              "      <td>1602237475079</td>\n",
              "      <td>Issue</td>\n",
              "    </tr>\n",
              "    <tr>\n",
              "      <th>1098</th>\n",
              "      <td>1.612120e+12</td>\n",
              "      <td>1601989720737</td>\n",
              "      <td>Issue</td>\n",
              "    </tr>\n",
              "    <tr>\n",
              "      <th>1099</th>\n",
              "      <td>1.602102e+12</td>\n",
              "      <td>1602087942607</td>\n",
              "      <td>Issue</td>\n",
              "    </tr>\n",
              "  </tbody>\n",
              "</table>\n",
              "<p>1100 rows × 3 columns</p>\n",
              "</div>"
            ],
            "text/plain": [
              "          resolved        created  $type\n",
              "0              NaN  1625762882126  Issue\n",
              "1              NaN  1625763250122  Issue\n",
              "2              NaN  1607484484129  Issue\n",
              "3     1.625758e+12  1624959097262  Issue\n",
              "4     1.625758e+12  1600857961089  Issue\n",
              "...            ...            ...    ...\n",
              "1095  1.606974e+12  1602318321660  Issue\n",
              "1096  1.606974e+12  1602256253762  Issue\n",
              "1097  1.612120e+12  1602237475079  Issue\n",
              "1098  1.612120e+12  1601989720737  Issue\n",
              "1099  1.602102e+12  1602087942607  Issue\n",
              "\n",
              "[1100 rows x 3 columns]"
            ]
          },
          "metadata": {
            "tags": []
          },
          "execution_count": 3
        }
      ]
    },
    {
      "cell_type": "markdown",
      "metadata": {
        "id": "UVbvggyVAn6F"
      },
      "source": [
        "Here's what we can tell by looking at the DataFrame:\n",
        "\n",
        "+ The file provides three column-wise counts for  issues tracker system YouTrack\n",
        "+ The metrics reported are created, resolved, and type\n",
        "+ Data is provided for 1100 issues: from Apr 17, 2020, to July 8, 2021"
      ]
    },
    {
      "cell_type": "markdown",
      "metadata": {
        "id": "-NVznLfvAMRY"
      },
      "source": [
        "Data from the file is read and stored in a DataFrame object – one of the core data structures in Pandas for storing and working with tabular data. We typically use the _df suffix in the variable names for DataFrames"
      ]
    },
    {
      "cell_type": "code",
      "metadata": {
        "colab": {
          "base_uri": "https://localhost:8080/"
        },
        "id": "Rd0-ZCNc-xvN",
        "outputId": "f0983f21-9ffb-4e23-86fb-02072a594dac"
      },
      "source": [
        "type(youtrack_df)"
      ],
      "execution_count": 4,
      "outputs": [
        {
          "output_type": "execute_result",
          "data": {
            "text/plain": [
              "pandas.core.frame.DataFrame"
            ]
          },
          "metadata": {
            "tags": []
          },
          "execution_count": 4
        }
      ]
    },
    {
      "cell_type": "markdown",
      "metadata": {
        "id": "EAjO-nV9DQ1J"
      },
      "source": [
        "We can view some basic information about the DataFrame using the `.info` method"
      ]
    },
    {
      "cell_type": "code",
      "metadata": {
        "colab": {
          "base_uri": "https://localhost:8080/"
        },
        "id": "EmRkWq_nDefq",
        "outputId": "bf0e7bd0-d54f-4fee-8442-142d69d14e39"
      },
      "source": [
        "youtrack_df.info()"
      ],
      "execution_count": 5,
      "outputs": [
        {
          "output_type": "stream",
          "text": [
            "<class 'pandas.core.frame.DataFrame'>\n",
            "RangeIndex: 1100 entries, 0 to 1099\n",
            "Data columns (total 3 columns):\n",
            " #   Column    Non-Null Count  Dtype  \n",
            "---  ------    --------------  -----  \n",
            " 0   resolved  693 non-null    float64\n",
            " 1   created   1100 non-null   int64  \n",
            " 2   $type     1100 non-null   object \n",
            "dtypes: float64(1), int64(1), object(1)\n",
            "memory usage: 25.9+ KB\n"
          ],
          "name": "stdout"
        }
      ]
    },
    {
      "cell_type": "markdown",
      "metadata": {
        "id": "t3GzkbRtD0rg"
      },
      "source": [
        "It appears that each column contains values of a specific data type. We can view statistical information for numerical columns (mean, standard deviation, minimum/maximum values, and the number of non-empty values) using the `.describe` method"
      ]
    },
    {
      "cell_type": "code",
      "metadata": {
        "colab": {
          "base_uri": "https://localhost:8080/",
          "height": 294
        },
        "id": "KgNsWcarEAyU",
        "outputId": "3595d5f1-2b5f-4e9b-a06a-4a6e22b16a29"
      },
      "source": [
        "youtrack_df.describe()"
      ],
      "execution_count": 6,
      "outputs": [
        {
          "output_type": "execute_result",
          "data": {
            "text/html": [
              "<div>\n",
              "<style scoped>\n",
              "    .dataframe tbody tr th:only-of-type {\n",
              "        vertical-align: middle;\n",
              "    }\n",
              "\n",
              "    .dataframe tbody tr th {\n",
              "        vertical-align: top;\n",
              "    }\n",
              "\n",
              "    .dataframe thead th {\n",
              "        text-align: right;\n",
              "    }\n",
              "</style>\n",
              "<table border=\"1\" class=\"dataframe\">\n",
              "  <thead>\n",
              "    <tr style=\"text-align: right;\">\n",
              "      <th></th>\n",
              "      <th>resolved</th>\n",
              "      <th>created</th>\n",
              "    </tr>\n",
              "  </thead>\n",
              "  <tbody>\n",
              "    <tr>\n",
              "      <th>count</th>\n",
              "      <td>6.930000e+02</td>\n",
              "      <td>1.100000e+03</td>\n",
              "    </tr>\n",
              "    <tr>\n",
              "      <th>mean</th>\n",
              "      <td>1.614854e+12</td>\n",
              "      <td>1.613047e+12</td>\n",
              "    </tr>\n",
              "    <tr>\n",
              "      <th>std</th>\n",
              "      <td>5.959582e+09</td>\n",
              "      <td>7.637254e+09</td>\n",
              "    </tr>\n",
              "    <tr>\n",
              "      <th>min</th>\n",
              "      <td>1.602102e+12</td>\n",
              "      <td>1.587082e+12</td>\n",
              "    </tr>\n",
              "    <tr>\n",
              "      <th>25%</th>\n",
              "      <td>1.609806e+12</td>\n",
              "      <td>1.606954e+12</td>\n",
              "    </tr>\n",
              "    <tr>\n",
              "      <th>50%</th>\n",
              "      <td>1.615283e+12</td>\n",
              "      <td>1.614275e+12</td>\n",
              "    </tr>\n",
              "    <tr>\n",
              "      <th>75%</th>\n",
              "      <td>1.618830e+12</td>\n",
              "      <td>1.618277e+12</td>\n",
              "    </tr>\n",
              "    <tr>\n",
              "      <th>max</th>\n",
              "      <td>1.625759e+12</td>\n",
              "      <td>1.625763e+12</td>\n",
              "    </tr>\n",
              "  </tbody>\n",
              "</table>\n",
              "</div>"
            ],
            "text/plain": [
              "           resolved       created\n",
              "count  6.930000e+02  1.100000e+03\n",
              "mean   1.614854e+12  1.613047e+12\n",
              "std    5.959582e+09  7.637254e+09\n",
              "min    1.602102e+12  1.587082e+12\n",
              "25%    1.609806e+12  1.606954e+12\n",
              "50%    1.615283e+12  1.614275e+12\n",
              "75%    1.618830e+12  1.618277e+12\n",
              "max    1.625759e+12  1.625763e+12"
            ]
          },
          "metadata": {
            "tags": []
          },
          "execution_count": 6
        }
      ]
    },
    {
      "cell_type": "markdown",
      "metadata": {
        "id": "5naDwUUMAIxp"
      },
      "source": [
        "Missing values for every column"
      ]
    },
    {
      "cell_type": "code",
      "metadata": {
        "colab": {
          "base_uri": "https://localhost:8080/"
        },
        "id": "1KZig1naANMD",
        "outputId": "5607572d-5d43-457b-fb5f-b31128dcc515"
      },
      "source": [
        "youtrack_df.isna().sum()"
      ],
      "execution_count": 7,
      "outputs": [
        {
          "output_type": "execute_result",
          "data": {
            "text/plain": [
              "resolved    407\n",
              "created       0\n",
              "$type         0\n",
              "dtype: int64"
            ]
          },
          "metadata": {
            "tags": []
          },
          "execution_count": 7
        }
      ]
    },
    {
      "cell_type": "markdown",
      "metadata": {
        "id": "zku-ycmX608y"
      },
      "source": [
        "With our DataFrame (stored in the variable youtrack_df), we can dig into the analysis of the development of opened (the column created: the time a bug was created) and closed (the column resolved: the time where a bugfix was confirmed) bugs. First, we remove the $type column because we don't need the information for our analysis"
      ]
    },
    {
      "cell_type": "code",
      "metadata": {
        "colab": {
          "base_uri": "https://localhost:8080/",
          "height": 416
        },
        "id": "N3MGAyrpxyrC",
        "outputId": "8e2d2a6c-fa14-40a9-bfe5-effbe1a322e2"
      },
      "source": [
        "faults_df_copy = youtrack_df[['resolved', 'created']].copy()\n",
        "faults_df_copy"
      ],
      "execution_count": 8,
      "outputs": [
        {
          "output_type": "execute_result",
          "data": {
            "text/html": [
              "<div>\n",
              "<style scoped>\n",
              "    .dataframe tbody tr th:only-of-type {\n",
              "        vertical-align: middle;\n",
              "    }\n",
              "\n",
              "    .dataframe tbody tr th {\n",
              "        vertical-align: top;\n",
              "    }\n",
              "\n",
              "    .dataframe thead th {\n",
              "        text-align: right;\n",
              "    }\n",
              "</style>\n",
              "<table border=\"1\" class=\"dataframe\">\n",
              "  <thead>\n",
              "    <tr style=\"text-align: right;\">\n",
              "      <th></th>\n",
              "      <th>resolved</th>\n",
              "      <th>created</th>\n",
              "    </tr>\n",
              "  </thead>\n",
              "  <tbody>\n",
              "    <tr>\n",
              "      <th>0</th>\n",
              "      <td>NaN</td>\n",
              "      <td>1625762882126</td>\n",
              "    </tr>\n",
              "    <tr>\n",
              "      <th>1</th>\n",
              "      <td>NaN</td>\n",
              "      <td>1625763250122</td>\n",
              "    </tr>\n",
              "    <tr>\n",
              "      <th>2</th>\n",
              "      <td>NaN</td>\n",
              "      <td>1607484484129</td>\n",
              "    </tr>\n",
              "    <tr>\n",
              "      <th>3</th>\n",
              "      <td>1.625758e+12</td>\n",
              "      <td>1624959097262</td>\n",
              "    </tr>\n",
              "    <tr>\n",
              "      <th>4</th>\n",
              "      <td>1.625758e+12</td>\n",
              "      <td>1600857961089</td>\n",
              "    </tr>\n",
              "    <tr>\n",
              "      <th>...</th>\n",
              "      <td>...</td>\n",
              "      <td>...</td>\n",
              "    </tr>\n",
              "    <tr>\n",
              "      <th>1095</th>\n",
              "      <td>1.606974e+12</td>\n",
              "      <td>1602318321660</td>\n",
              "    </tr>\n",
              "    <tr>\n",
              "      <th>1096</th>\n",
              "      <td>1.606974e+12</td>\n",
              "      <td>1602256253762</td>\n",
              "    </tr>\n",
              "    <tr>\n",
              "      <th>1097</th>\n",
              "      <td>1.612120e+12</td>\n",
              "      <td>1602237475079</td>\n",
              "    </tr>\n",
              "    <tr>\n",
              "      <th>1098</th>\n",
              "      <td>1.612120e+12</td>\n",
              "      <td>1601989720737</td>\n",
              "    </tr>\n",
              "    <tr>\n",
              "      <th>1099</th>\n",
              "      <td>1.602102e+12</td>\n",
              "      <td>1602087942607</td>\n",
              "    </tr>\n",
              "  </tbody>\n",
              "</table>\n",
              "<p>1100 rows × 2 columns</p>\n",
              "</div>"
            ],
            "text/plain": [
              "          resolved        created\n",
              "0              NaN  1625762882126\n",
              "1              NaN  1625763250122\n",
              "2              NaN  1607484484129\n",
              "3     1.625758e+12  1624959097262\n",
              "4     1.625758e+12  1600857961089\n",
              "...            ...            ...\n",
              "1095  1.606974e+12  1602318321660\n",
              "1096  1.606974e+12  1602256253762\n",
              "1097  1.612120e+12  1602237475079\n",
              "1098  1.612120e+12  1601989720737\n",
              "1099  1.602102e+12  1602087942607\n",
              "\n",
              "[1100 rows x 2 columns]"
            ]
          },
          "metadata": {
            "tags": []
          },
          "execution_count": 8
        }
      ]
    },
    {
      "cell_type": "markdown",
      "metadata": {
        "id": "4vW-yDyw93sX"
      },
      "source": [
        "The data within `faults_df_copy` is completely separate from youtrack_df"
      ]
    },
    {
      "cell_type": "markdown",
      "metadata": {
        "id": "okEdIg--7J9J"
      },
      "source": [
        "## Exploratory data analysis\n",
        "\n",
        "Cool, let's take a look at the development of the reported and fixed bugs. One important question we would like to answer is whether we are getting behind with bug fixing. For this, we are calculating the creation and resolution of bugs over time. That means for us that we have first to convert the corresponding data in the columns created and resolved into a **data format** we can calculate time with. For this, we're using the `to_datetime` method for converting the text in these columns into the Timestamp data type. Because the retrieved data has a timestamp information in milliseconds since epoch (01/01/1970 00:00:00) we have to provide this information as additional parameter unit"
      ]
    },
    {
      "cell_type": "code",
      "metadata": {
        "colab": {
          "base_uri": "https://localhost:8080/",
          "height": 416
        },
        "id": "j9hnK_yfxyij",
        "outputId": "aa6d0c87-d7a3-4a26-ba1d-8cb111c04b12"
      },
      "source": [
        "faults_df_copy['created'] = pd.to_datetime(faults_df_copy['created'], unit='ms')\n",
        "faults_df_copy['resolved'] = pd.to_datetime(faults_df_copy['resolved'], unit='ms')\n",
        "faults_df_copy"
      ],
      "execution_count": 9,
      "outputs": [
        {
          "output_type": "execute_result",
          "data": {
            "text/html": [
              "<div>\n",
              "<style scoped>\n",
              "    .dataframe tbody tr th:only-of-type {\n",
              "        vertical-align: middle;\n",
              "    }\n",
              "\n",
              "    .dataframe tbody tr th {\n",
              "        vertical-align: top;\n",
              "    }\n",
              "\n",
              "    .dataframe thead th {\n",
              "        text-align: right;\n",
              "    }\n",
              "</style>\n",
              "<table border=\"1\" class=\"dataframe\">\n",
              "  <thead>\n",
              "    <tr style=\"text-align: right;\">\n",
              "      <th></th>\n",
              "      <th>resolved</th>\n",
              "      <th>created</th>\n",
              "    </tr>\n",
              "  </thead>\n",
              "  <tbody>\n",
              "    <tr>\n",
              "      <th>0</th>\n",
              "      <td>NaT</td>\n",
              "      <td>2021-07-08 16:48:02.126</td>\n",
              "    </tr>\n",
              "    <tr>\n",
              "      <th>1</th>\n",
              "      <td>NaT</td>\n",
              "      <td>2021-07-08 16:54:10.122</td>\n",
              "    </tr>\n",
              "    <tr>\n",
              "      <th>2</th>\n",
              "      <td>NaT</td>\n",
              "      <td>2020-12-09 03:28:04.129</td>\n",
              "    </tr>\n",
              "    <tr>\n",
              "      <th>3</th>\n",
              "      <td>2021-07-08 15:32:33.794</td>\n",
              "      <td>2021-06-29 09:31:37.262</td>\n",
              "    </tr>\n",
              "    <tr>\n",
              "      <th>4</th>\n",
              "      <td>2021-07-08 15:33:20.988</td>\n",
              "      <td>2020-09-23 10:46:01.089</td>\n",
              "    </tr>\n",
              "    <tr>\n",
              "      <th>...</th>\n",
              "      <td>...</td>\n",
              "      <td>...</td>\n",
              "    </tr>\n",
              "    <tr>\n",
              "      <th>1095</th>\n",
              "      <td>2020-12-03 05:44:25.148</td>\n",
              "      <td>2020-10-10 08:25:21.660</td>\n",
              "    </tr>\n",
              "    <tr>\n",
              "      <th>1096</th>\n",
              "      <td>2020-12-03 05:44:25.024</td>\n",
              "      <td>2020-10-09 15:10:53.762</td>\n",
              "    </tr>\n",
              "    <tr>\n",
              "      <th>1097</th>\n",
              "      <td>2021-01-31 19:08:10.066</td>\n",
              "      <td>2020-10-09 09:57:55.079</td>\n",
              "    </tr>\n",
              "    <tr>\n",
              "      <th>1098</th>\n",
              "      <td>2021-01-31 19:02:43.442</td>\n",
              "      <td>2020-10-06 13:08:40.737</td>\n",
              "    </tr>\n",
              "    <tr>\n",
              "      <th>1099</th>\n",
              "      <td>2020-10-07 20:27:22.722</td>\n",
              "      <td>2020-10-07 16:25:42.607</td>\n",
              "    </tr>\n",
              "  </tbody>\n",
              "</table>\n",
              "<p>1100 rows × 2 columns</p>\n",
              "</div>"
            ],
            "text/plain": [
              "                    resolved                 created\n",
              "0                        NaT 2021-07-08 16:48:02.126\n",
              "1                        NaT 2021-07-08 16:54:10.122\n",
              "2                        NaT 2020-12-09 03:28:04.129\n",
              "3    2021-07-08 15:32:33.794 2021-06-29 09:31:37.262\n",
              "4    2021-07-08 15:33:20.988 2020-09-23 10:46:01.089\n",
              "...                      ...                     ...\n",
              "1095 2020-12-03 05:44:25.148 2020-10-10 08:25:21.660\n",
              "1096 2020-12-03 05:44:25.024 2020-10-09 15:10:53.762\n",
              "1097 2021-01-31 19:08:10.066 2020-10-09 09:57:55.079\n",
              "1098 2021-01-31 19:02:43.442 2020-10-06 13:08:40.737\n",
              "1099 2020-10-07 20:27:22.722 2020-10-07 16:25:42.607\n",
              "\n",
              "[1100 rows x 2 columns]"
            ]
          },
          "metadata": {
            "tags": []
          },
          "execution_count": 9
        }
      ]
    },
    {
      "cell_type": "markdown",
      "metadata": {
        "id": "XBZMa-d97ktC"
      },
      "source": [
        "Next, we need a model that shows us the progress of the created and fixed bugs over time. For this, we have to list all events in the timeline in one column, but to keep the information of the created and resolved bugs\n",
        "\n",
        "We can use the `stack()` method on the DataFrame to reorganized the multidimensional data into one continuous list of data"
      ]
    },
    {
      "cell_type": "code",
      "metadata": {
        "colab": {
          "base_uri": "https://localhost:8080/"
        },
        "id": "JgPsYPshxyeS",
        "outputId": "2b4e5794-b5a9-4db0-c0eb-911345980d43"
      },
      "source": [
        "faults_stacked = faults_df_copy.stack()\n",
        "faults_stacked"
      ],
      "execution_count": 10,
      "outputs": [
        {
          "output_type": "execute_result",
          "data": {
            "text/plain": [
              "0     created    2021-07-08 16:48:02.126\n",
              "1     created    2021-07-08 16:54:10.122\n",
              "2     created    2020-12-09 03:28:04.129\n",
              "3     resolved   2021-07-08 15:32:33.794\n",
              "      created    2021-06-29 09:31:37.262\n",
              "                           ...          \n",
              "1097  created    2020-10-09 09:57:55.079\n",
              "1098  resolved   2021-01-31 19:02:43.442\n",
              "      created    2020-10-06 13:08:40.737\n",
              "1099  resolved   2020-10-07 20:27:22.722\n",
              "      created    2020-10-07 16:25:42.607\n",
              "Length: 1793, dtype: datetime64[ns]"
            ]
          },
          "metadata": {
            "tags": []
          },
          "execution_count": 10
        }
      ]
    },
    {
      "cell_type": "markdown",
      "metadata": {
        "id": "-6hcqH1v8Ems"
      },
      "source": [
        "This gives us a Series with a multiindex (the first two \"columns\": index number and the information about the bug' status) as well as the timestamp information (as datetime64 data type) in the column named 0. We melt the first level of the multiindex with `reset_index()` to also list the status of the bug entries as normal values because we want to work with these values later on"
      ]
    },
    {
      "cell_type": "code",
      "metadata": {
        "colab": {
          "base_uri": "https://localhost:8080/",
          "height": 416
        },
        "id": "jXzWRdagxyaG",
        "outputId": "ca793424-d341-45fd-d2a9-4b4aac28d22a"
      },
      "source": [
        "faults_list = faults_stacked.reset_index(1)\n",
        "faults_list"
      ],
      "execution_count": 11,
      "outputs": [
        {
          "output_type": "execute_result",
          "data": {
            "text/html": [
              "<div>\n",
              "<style scoped>\n",
              "    .dataframe tbody tr th:only-of-type {\n",
              "        vertical-align: middle;\n",
              "    }\n",
              "\n",
              "    .dataframe tbody tr th {\n",
              "        vertical-align: top;\n",
              "    }\n",
              "\n",
              "    .dataframe thead th {\n",
              "        text-align: right;\n",
              "    }\n",
              "</style>\n",
              "<table border=\"1\" class=\"dataframe\">\n",
              "  <thead>\n",
              "    <tr style=\"text-align: right;\">\n",
              "      <th></th>\n",
              "      <th>level_1</th>\n",
              "      <th>0</th>\n",
              "    </tr>\n",
              "  </thead>\n",
              "  <tbody>\n",
              "    <tr>\n",
              "      <th>0</th>\n",
              "      <td>created</td>\n",
              "      <td>2021-07-08 16:48:02.126</td>\n",
              "    </tr>\n",
              "    <tr>\n",
              "      <th>1</th>\n",
              "      <td>created</td>\n",
              "      <td>2021-07-08 16:54:10.122</td>\n",
              "    </tr>\n",
              "    <tr>\n",
              "      <th>2</th>\n",
              "      <td>created</td>\n",
              "      <td>2020-12-09 03:28:04.129</td>\n",
              "    </tr>\n",
              "    <tr>\n",
              "      <th>3</th>\n",
              "      <td>resolved</td>\n",
              "      <td>2021-07-08 15:32:33.794</td>\n",
              "    </tr>\n",
              "    <tr>\n",
              "      <th>3</th>\n",
              "      <td>created</td>\n",
              "      <td>2021-06-29 09:31:37.262</td>\n",
              "    </tr>\n",
              "    <tr>\n",
              "      <th>...</th>\n",
              "      <td>...</td>\n",
              "      <td>...</td>\n",
              "    </tr>\n",
              "    <tr>\n",
              "      <th>1097</th>\n",
              "      <td>created</td>\n",
              "      <td>2020-10-09 09:57:55.079</td>\n",
              "    </tr>\n",
              "    <tr>\n",
              "      <th>1098</th>\n",
              "      <td>resolved</td>\n",
              "      <td>2021-01-31 19:02:43.442</td>\n",
              "    </tr>\n",
              "    <tr>\n",
              "      <th>1098</th>\n",
              "      <td>created</td>\n",
              "      <td>2020-10-06 13:08:40.737</td>\n",
              "    </tr>\n",
              "    <tr>\n",
              "      <th>1099</th>\n",
              "      <td>resolved</td>\n",
              "      <td>2020-10-07 20:27:22.722</td>\n",
              "    </tr>\n",
              "    <tr>\n",
              "      <th>1099</th>\n",
              "      <td>created</td>\n",
              "      <td>2020-10-07 16:25:42.607</td>\n",
              "    </tr>\n",
              "  </tbody>\n",
              "</table>\n",
              "<p>1793 rows × 2 columns</p>\n",
              "</div>"
            ],
            "text/plain": [
              "       level_1                       0\n",
              "0      created 2021-07-08 16:48:02.126\n",
              "1      created 2021-07-08 16:54:10.122\n",
              "2      created 2020-12-09 03:28:04.129\n",
              "3     resolved 2021-07-08 15:32:33.794\n",
              "3      created 2021-06-29 09:31:37.262\n",
              "...        ...                     ...\n",
              "1097   created 2020-10-09 09:57:55.079\n",
              "1098  resolved 2021-01-31 19:02:43.442\n",
              "1098   created 2020-10-06 13:08:40.737\n",
              "1099  resolved 2020-10-07 20:27:22.722\n",
              "1099   created 2020-10-07 16:25:42.607\n",
              "\n",
              "[1793 rows x 2 columns]"
            ]
          },
          "metadata": {
            "tags": []
          },
          "execution_count": 11
        }
      ]
    },
    {
      "cell_type": "markdown",
      "metadata": {
        "id": "nQpoy3OS8YTr"
      },
      "source": [
        "Next, we need a new column that tells us for each entry if a bug was resolved or created. We can do this by creating a new colum with the number 1 for each entry. This allows us to calculate some metrics based on this number later"
      ]
    },
    {
      "cell_type": "code",
      "metadata": {
        "colab": {
          "base_uri": "https://localhost:8080/",
          "height": 416
        },
        "id": "kr2Hd6-Sxx6_",
        "outputId": "b79ed668-dbba-4a49-9b97-bf406a511031"
      },
      "source": [
        "faults_list['count'] = 1\n",
        "faults_list"
      ],
      "execution_count": 12,
      "outputs": [
        {
          "output_type": "execute_result",
          "data": {
            "text/html": [
              "<div>\n",
              "<style scoped>\n",
              "    .dataframe tbody tr th:only-of-type {\n",
              "        vertical-align: middle;\n",
              "    }\n",
              "\n",
              "    .dataframe tbody tr th {\n",
              "        vertical-align: top;\n",
              "    }\n",
              "\n",
              "    .dataframe thead th {\n",
              "        text-align: right;\n",
              "    }\n",
              "</style>\n",
              "<table border=\"1\" class=\"dataframe\">\n",
              "  <thead>\n",
              "    <tr style=\"text-align: right;\">\n",
              "      <th></th>\n",
              "      <th>level_1</th>\n",
              "      <th>0</th>\n",
              "      <th>count</th>\n",
              "    </tr>\n",
              "  </thead>\n",
              "  <tbody>\n",
              "    <tr>\n",
              "      <th>0</th>\n",
              "      <td>created</td>\n",
              "      <td>2021-07-08 16:48:02.126</td>\n",
              "      <td>1</td>\n",
              "    </tr>\n",
              "    <tr>\n",
              "      <th>1</th>\n",
              "      <td>created</td>\n",
              "      <td>2021-07-08 16:54:10.122</td>\n",
              "      <td>1</td>\n",
              "    </tr>\n",
              "    <tr>\n",
              "      <th>2</th>\n",
              "      <td>created</td>\n",
              "      <td>2020-12-09 03:28:04.129</td>\n",
              "      <td>1</td>\n",
              "    </tr>\n",
              "    <tr>\n",
              "      <th>3</th>\n",
              "      <td>resolved</td>\n",
              "      <td>2021-07-08 15:32:33.794</td>\n",
              "      <td>1</td>\n",
              "    </tr>\n",
              "    <tr>\n",
              "      <th>3</th>\n",
              "      <td>created</td>\n",
              "      <td>2021-06-29 09:31:37.262</td>\n",
              "      <td>1</td>\n",
              "    </tr>\n",
              "    <tr>\n",
              "      <th>...</th>\n",
              "      <td>...</td>\n",
              "      <td>...</td>\n",
              "      <td>...</td>\n",
              "    </tr>\n",
              "    <tr>\n",
              "      <th>1097</th>\n",
              "      <td>created</td>\n",
              "      <td>2020-10-09 09:57:55.079</td>\n",
              "      <td>1</td>\n",
              "    </tr>\n",
              "    <tr>\n",
              "      <th>1098</th>\n",
              "      <td>resolved</td>\n",
              "      <td>2021-01-31 19:02:43.442</td>\n",
              "      <td>1</td>\n",
              "    </tr>\n",
              "    <tr>\n",
              "      <th>1098</th>\n",
              "      <td>created</td>\n",
              "      <td>2020-10-06 13:08:40.737</td>\n",
              "      <td>1</td>\n",
              "    </tr>\n",
              "    <tr>\n",
              "      <th>1099</th>\n",
              "      <td>resolved</td>\n",
              "      <td>2020-10-07 20:27:22.722</td>\n",
              "      <td>1</td>\n",
              "    </tr>\n",
              "    <tr>\n",
              "      <th>1099</th>\n",
              "      <td>created</td>\n",
              "      <td>2020-10-07 16:25:42.607</td>\n",
              "      <td>1</td>\n",
              "    </tr>\n",
              "  </tbody>\n",
              "</table>\n",
              "<p>1793 rows × 3 columns</p>\n",
              "</div>"
            ],
            "text/plain": [
              "       level_1                       0  count\n",
              "0      created 2021-07-08 16:48:02.126      1\n",
              "1      created 2021-07-08 16:54:10.122      1\n",
              "2      created 2020-12-09 03:28:04.129      1\n",
              "3     resolved 2021-07-08 15:32:33.794      1\n",
              "3      created 2021-06-29 09:31:37.262      1\n",
              "...        ...                     ...    ...\n",
              "1097   created 2020-10-09 09:57:55.079      1\n",
              "1098  resolved 2021-01-31 19:02:43.442      1\n",
              "1098   created 2020-10-06 13:08:40.737      1\n",
              "1099  resolved 2020-10-07 20:27:22.722      1\n",
              "1099   created 2020-10-07 16:25:42.607      1\n",
              "\n",
              "[1793 rows x 3 columns]"
            ]
          },
          "metadata": {
            "tags": []
          },
          "execution_count": 12
        }
      ]
    },
    {
      "cell_type": "markdown",
      "metadata": {
        "id": "EmnPXCOr8lxz"
      },
      "source": [
        "OK, now comes the tricky part. We have to reorder our table to get a side-by-side comparison of opened and closed bugs over time. We use the great `pivot_table` method on the DataFrame to achieve this. We set the column with the time information from the (oddly named) column `0` as our index. This gives us a time-based index and allows time series calculations. `pivot_table` also sorts the time information in the right, ascending order. As columns, we use the values of the `level_1` (= status of a bug entry) to get a side-by-side view of created and resolved bugs. Last, we use our new number column `count` to mark the activities for each bug entry at each given point of time. As a small cosmetic correction we rename the column heading from `level_1` to `faults`. We do the same for the index"
      ]
    },
    {
      "cell_type": "code",
      "metadata": {
        "colab": {
          "base_uri": "https://localhost:8080/",
          "height": 446
        },
        "id": "tp6ErHBxyHhT",
        "outputId": "fc7ad8f4-f7f7-43e5-b6d9-db5a60cb7544"
      },
      "source": [
        "faults_trend = faults_list.pivot_table(\n",
        "    index=0,\n",
        "    columns=\"level_1\",\n",
        "    values=\"count\",\n",
        "    fill_value=0\n",
        ")\n",
        "\n",
        "faults_trend.columns.name = \"faults\"\n",
        "faults_trend.index.name = \"timestamp\"\n",
        "faults_trend"
      ],
      "execution_count": 13,
      "outputs": [
        {
          "output_type": "execute_result",
          "data": {
            "text/html": [
              "<div>\n",
              "<style scoped>\n",
              "    .dataframe tbody tr th:only-of-type {\n",
              "        vertical-align: middle;\n",
              "    }\n",
              "\n",
              "    .dataframe tbody tr th {\n",
              "        vertical-align: top;\n",
              "    }\n",
              "\n",
              "    .dataframe thead th {\n",
              "        text-align: right;\n",
              "    }\n",
              "</style>\n",
              "<table border=\"1\" class=\"dataframe\">\n",
              "  <thead>\n",
              "    <tr style=\"text-align: right;\">\n",
              "      <th>faults</th>\n",
              "      <th>created</th>\n",
              "      <th>resolved</th>\n",
              "    </tr>\n",
              "    <tr>\n",
              "      <th>timestamp</th>\n",
              "      <th></th>\n",
              "      <th></th>\n",
              "    </tr>\n",
              "  </thead>\n",
              "  <tbody>\n",
              "    <tr>\n",
              "      <th>2020-04-17 00:03:33.432</th>\n",
              "      <td>1</td>\n",
              "      <td>0</td>\n",
              "    </tr>\n",
              "    <tr>\n",
              "      <th>2020-05-28 11:46:12.943</th>\n",
              "      <td>1</td>\n",
              "      <td>0</td>\n",
              "    </tr>\n",
              "    <tr>\n",
              "      <th>2020-06-01 16:46:48.516</th>\n",
              "      <td>1</td>\n",
              "      <td>0</td>\n",
              "    </tr>\n",
              "    <tr>\n",
              "      <th>2020-06-17 21:41:19.929</th>\n",
              "      <td>1</td>\n",
              "      <td>0</td>\n",
              "    </tr>\n",
              "    <tr>\n",
              "      <th>2020-07-23 14:50:37.290</th>\n",
              "      <td>1</td>\n",
              "      <td>0</td>\n",
              "    </tr>\n",
              "    <tr>\n",
              "      <th>...</th>\n",
              "      <td>...</td>\n",
              "      <td>...</td>\n",
              "    </tr>\n",
              "    <tr>\n",
              "      <th>2021-07-08 15:33:20.988</th>\n",
              "      <td>0</td>\n",
              "      <td>1</td>\n",
              "    </tr>\n",
              "    <tr>\n",
              "      <th>2021-07-08 15:47:02.440</th>\n",
              "      <td>0</td>\n",
              "      <td>1</td>\n",
              "    </tr>\n",
              "    <tr>\n",
              "      <th>2021-07-08 15:49:14.204</th>\n",
              "      <td>1</td>\n",
              "      <td>0</td>\n",
              "    </tr>\n",
              "    <tr>\n",
              "      <th>2021-07-08 16:48:02.126</th>\n",
              "      <td>1</td>\n",
              "      <td>0</td>\n",
              "    </tr>\n",
              "    <tr>\n",
              "      <th>2021-07-08 16:54:10.122</th>\n",
              "      <td>1</td>\n",
              "      <td>0</td>\n",
              "    </tr>\n",
              "  </tbody>\n",
              "</table>\n",
              "<p>1789 rows × 2 columns</p>\n",
              "</div>"
            ],
            "text/plain": [
              "faults                   created  resolved\n",
              "timestamp                                 \n",
              "2020-04-17 00:03:33.432        1         0\n",
              "2020-05-28 11:46:12.943        1         0\n",
              "2020-06-01 16:46:48.516        1         0\n",
              "2020-06-17 21:41:19.929        1         0\n",
              "2020-07-23 14:50:37.290        1         0\n",
              "...                          ...       ...\n",
              "2021-07-08 15:33:20.988        0         1\n",
              "2021-07-08 15:47:02.440        0         1\n",
              "2021-07-08 15:49:14.204        1         0\n",
              "2021-07-08 16:48:02.126        1         0\n",
              "2021-07-08 16:54:10.122        1         0\n",
              "\n",
              "[1789 rows x 2 columns]"
            ]
          },
          "metadata": {
            "tags": []
          },
          "execution_count": 13
        }
      ]
    },
    {
      "cell_type": "markdown",
      "metadata": {
        "id": "65nMdAhH9NSW"
      },
      "source": [
        "Next, we want to create a trend of the created and fixed bugs. In other words, we need to track the accumulated number of open and fixed bugs for each of our timed entries. We can do this by using the `cumsum()` method on our DataFrame"
      ]
    },
    {
      "cell_type": "code",
      "metadata": {
        "colab": {
          "base_uri": "https://localhost:8080/",
          "height": 446
        },
        "id": "bhVqLwFEyHaS",
        "outputId": "07724ba5-c475-42b2-a812-98222fc12e9b"
      },
      "source": [
        "cumulated_faults_over_time = faults_trend.cumsum()\n",
        "cumulated_faults_over_time"
      ],
      "execution_count": 14,
      "outputs": [
        {
          "output_type": "execute_result",
          "data": {
            "text/html": [
              "<div>\n",
              "<style scoped>\n",
              "    .dataframe tbody tr th:only-of-type {\n",
              "        vertical-align: middle;\n",
              "    }\n",
              "\n",
              "    .dataframe tbody tr th {\n",
              "        vertical-align: top;\n",
              "    }\n",
              "\n",
              "    .dataframe thead th {\n",
              "        text-align: right;\n",
              "    }\n",
              "</style>\n",
              "<table border=\"1\" class=\"dataframe\">\n",
              "  <thead>\n",
              "    <tr style=\"text-align: right;\">\n",
              "      <th>faults</th>\n",
              "      <th>created</th>\n",
              "      <th>resolved</th>\n",
              "    </tr>\n",
              "    <tr>\n",
              "      <th>timestamp</th>\n",
              "      <th></th>\n",
              "      <th></th>\n",
              "    </tr>\n",
              "  </thead>\n",
              "  <tbody>\n",
              "    <tr>\n",
              "      <th>2020-04-17 00:03:33.432</th>\n",
              "      <td>1</td>\n",
              "      <td>0</td>\n",
              "    </tr>\n",
              "    <tr>\n",
              "      <th>2020-05-28 11:46:12.943</th>\n",
              "      <td>2</td>\n",
              "      <td>0</td>\n",
              "    </tr>\n",
              "    <tr>\n",
              "      <th>2020-06-01 16:46:48.516</th>\n",
              "      <td>3</td>\n",
              "      <td>0</td>\n",
              "    </tr>\n",
              "    <tr>\n",
              "      <th>2020-06-17 21:41:19.929</th>\n",
              "      <td>4</td>\n",
              "      <td>0</td>\n",
              "    </tr>\n",
              "    <tr>\n",
              "      <th>2020-07-23 14:50:37.290</th>\n",
              "      <td>5</td>\n",
              "      <td>0</td>\n",
              "    </tr>\n",
              "    <tr>\n",
              "      <th>...</th>\n",
              "      <td>...</td>\n",
              "      <td>...</td>\n",
              "    </tr>\n",
              "    <tr>\n",
              "      <th>2021-07-08 15:33:20.988</th>\n",
              "      <td>1097</td>\n",
              "      <td>688</td>\n",
              "    </tr>\n",
              "    <tr>\n",
              "      <th>2021-07-08 15:47:02.440</th>\n",
              "      <td>1097</td>\n",
              "      <td>689</td>\n",
              "    </tr>\n",
              "    <tr>\n",
              "      <th>2021-07-08 15:49:14.204</th>\n",
              "      <td>1098</td>\n",
              "      <td>689</td>\n",
              "    </tr>\n",
              "    <tr>\n",
              "      <th>2021-07-08 16:48:02.126</th>\n",
              "      <td>1099</td>\n",
              "      <td>689</td>\n",
              "    </tr>\n",
              "    <tr>\n",
              "      <th>2021-07-08 16:54:10.122</th>\n",
              "      <td>1100</td>\n",
              "      <td>689</td>\n",
              "    </tr>\n",
              "  </tbody>\n",
              "</table>\n",
              "<p>1789 rows × 2 columns</p>\n",
              "</div>"
            ],
            "text/plain": [
              "faults                   created  resolved\n",
              "timestamp                                 \n",
              "2020-04-17 00:03:33.432        1         0\n",
              "2020-05-28 11:46:12.943        2         0\n",
              "2020-06-01 16:46:48.516        3         0\n",
              "2020-06-17 21:41:19.929        4         0\n",
              "2020-07-23 14:50:37.290        5         0\n",
              "...                          ...       ...\n",
              "2021-07-08 15:33:20.988     1097       688\n",
              "2021-07-08 15:47:02.440     1097       689\n",
              "2021-07-08 15:49:14.204     1098       689\n",
              "2021-07-08 16:48:02.126     1099       689\n",
              "2021-07-08 16:54:10.122     1100       689\n",
              "\n",
              "[1789 rows x 2 columns]"
            ]
          },
          "metadata": {
            "tags": []
          },
          "execution_count": 14
        }
      ]
    },
    {
      "cell_type": "markdown",
      "metadata": {
        "id": "gYpxJPqFGFDv"
      },
      "source": [
        "### Let's answer a question about our data\n",
        "\n",
        "#### Q: What is the overall resolved rate(ratio of resolved to created issues)?\n"
      ]
    },
    {
      "cell_type": "code",
      "metadata": {
        "colab": {
          "base_uri": "https://localhost:8080/"
        },
        "id": "vnXjQhtjGZVu",
        "outputId": "8b4347b7-c7f0-4a38-e49b-e4174c19ae88"
      },
      "source": [
        "resolved_rate = cumulated_faults_over_time.resolved.sum() / cumulated_faults_over_time.created.sum()\n",
        "print(\"The overall resolved rate in YouTrack is {:.2f} %.\".format(resolved_rate*100))"
      ],
      "execution_count": 15,
      "outputs": [
        {
          "output_type": "stream",
          "text": [
            "The overall resolved rate in YouTrack is 54.60 %.\n"
          ],
          "name": "stdout"
        }
      ]
    },
    {
      "cell_type": "markdown",
      "metadata": {
        "id": "_f_RmL_79VpP"
      },
      "source": [
        "Last, we visualize this DataFrame to get a feeling about how good (or bad) we are in managing our bugs. We're using the standard `plot` method of the DataFrame which create a line chart of our two columns: the amount of existing `created` and `resolved` bugs, plotted over time"
      ]
    },
    {
      "cell_type": "code",
      "metadata": {
        "colab": {
          "base_uri": "https://localhost:8080/",
          "height": 293
        },
        "id": "QSBljOeQyNBj",
        "outputId": "c23874b2-1fd0-4152-89af-4df28f0ddafc"
      },
      "source": [
        "cumulated_faults_over_time.plot(\n",
        "    title=\"Open and fixed faults for 'Code With Me'\"\n",
        ");"
      ],
      "execution_count": 16,
      "outputs": [
        {
          "output_type": "display_data",
          "data": {
            "image/png": "[encoded data removed]",
            "text/plain": [
              "<Figure size 432x288 with 1 Axes>"
            ]
          },
          "metadata": {
            "tags": [],
            "needs_background": "light"
          }
        }
      ]
    },
    {
      "cell_type": "markdown",
      "metadata": {
        "id": "bB3Huwqg9kNP"
      },
      "source": [
        "From this visualization, we can see that the team might be behind regarding fixing bugs. We also see that at the beginning of December 2020, there was a steep increase for bugfixing. It looks like someone clean up the issues tracker right before the official release, doesn't it? :-)"
      ]
    },
    {
      "cell_type": "markdown",
      "metadata": {
        "id": "2tr67VeR9waP"
      },
      "source": [
        "## Conclusion\n",
        "\n",
        "This post guids us through a variant of *Fault Analysis* using the issues tracker YouTrack. The analysis gives us some hints on how we could approach analyzing our own issue tracker system (or even similiar kinds of data)\n",
        "\n",
        "We hope you could also see that this kind of analysis isn't magic. Using appropriate standard tools like pandas helps us get answers to our specific questions in a straightforward manner"
      ]
    },
    {
      "cell_type": "code",
      "metadata": {
        "id": "NWQsvQdV-OjG"
      },
      "source": [
        ""
      ],
      "execution_count": 16,
      "outputs": []
    }
  ]
}